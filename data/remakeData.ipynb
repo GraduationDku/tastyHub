{
 "cells": [
  {
   "cell_type": "code",
   "execution_count": 20,
   "id": "58902432e792cf62",
   "metadata": {
    "ExecuteTime": {
     "end_time": "2024-05-07T10:58:37.471955Z",
     "start_time": "2024-05-07T10:58:37.454758Z"
    }
   },
   "outputs": [
    {
     "data": {
      "text/plain": [
       "'\\n환경 : 쥬피터 노트북\\n0. https://pypi.org/project/googletrans/\\n번역 api - 각 단계 진행 시 해당 string 번역하여 값 반환\\n하이퍼링크 제거 메서드 생성\\n\\n1. 테이블 정의 - 레시피, 요리정보, 재료, 요리단계\\n\\n레시피 - Recipe\\n1. id - db 자동배정\\n2. foodName : title\\n3. foodImg : image\\n4. tempId : spoonacular api recipeId\\n\\n요리정보 - FoodInformation\\n1. id - db 자동 배정\\n2. text - summary\\n3. cookingTime - readyInMinutes\\n4. serving - servings\\n\\n재료 - Ingredients 항목에서 가져오기\\n1. id - db 자동배정\\n2. ingredientName : ingredientName\\n3. amount : amount\\n\\n요리 단계 - CookStep : analyzedInstruction 항목에서 가져오기\\n1. id - db 자동\\n2. stepNumber - number\\n3. text - step\\n4. stepImg - null로 통일\\n\\n2. docker - mysql\\ndocker volume 설정으로 레시피 및 db 저장 폴더 지정\\n파이썬 mysql 연결 flask x\\n\\n3. 레시피 아이디 들고와서 레시피 객체 생성 후 db 저장\\n4. 레시피 아이디를 리스트로 받아오기\\n5. 받아온 아이디를 기반으로 단일 레시피 get 요청 진행\\n    5-1. 요리 정보 : 데이터 분리, body에서 summary 추출,이미지 링크 삭제, 그리고 매핑 및 객체 생성,\\n    5-2. 재료 : 테이블과 각 값 매핑해서 객체 생성,\\n    5-3. 요리 단계 : 테이블과 각 값 매핑해서 객체 생성\\n    각 순서마다 db에 상황마다 바로 전송\\n    \\nAPI key : 03351b92426b464499f9b05790d6894b\\n'"
      ]
     },
     "execution_count": 20,
     "metadata": {},
     "output_type": "execute_result"
    }
   ],
   "source": [
    "'''\n",
    "환경 : 쥬피터 노트북\n",
    "0. https://pypi.org/project/googletrans/\n",
    "번역 api - 각 단계 진행 시 해당 string 번역하여 값 반환\n",
    "하이퍼링크 제거 메서드 생성\n",
    "\n",
    "1. 테이블 정의 - 레시피, 요리정보, 재료, 요리단계\n",
    "\n",
    "레시피 - Recipe\n",
    "1. id - db 자동배정\n",
    "2. foodName : title\n",
    "3. foodImg : image\n",
    "4. tempId : spoonacular api recipeId\n",
    "\n",
    "요리정보 - FoodInformation\n",
    "1. id - db 자동 배정\n",
    "2. text - summary\n",
    "3. cookingTime - readyInMinutes\n",
    "4. serving - servings\n",
    "\n",
    "재료 - Ingredients 항목에서 가져오기\n",
    "1. id - db 자동배정\n",
    "2. ingredientName : ingredientName\n",
    "3. amount : amount\n",
    "\n",
    "요리 단계 - CookStep : analyzedInstruction 항목에서 가져오기\n",
    "1. id - db 자동\n",
    "2. stepNumber - number\n",
    "3. text - step\n",
    "4. stepImg - null로 통일\n",
    "\n",
    "2. docker - mysql\n",
    "docker volume 설정으로 레시피 및 db 저장 폴더 지정\n",
    "파이썬 mysql 연결 flask x\n",
    "\n",
    "3. 레시피 아이디 들고와서 레시피 객체 생성 후 db 저장\n",
    "4. 레시피 아이디를 리스트로 받아오기\n",
    "5. 받아온 아이디를 기반으로 단일 레시피 get 요청 진행\n",
    "    5-1. 요리 정보 : 데이터 분리, body에서 summary 추출,이미지 링크 삭제, 그리고 매핑 및 객체 생성,\n",
    "    5-2. 재료 : 테이블과 각 값 매핑해서 객체 생성,\n",
    "    5-3. 요리 단계 : 테이블과 각 값 매핑해서 객체 생성\n",
    "    각 순서마다 db에 상황마다 바로 전송\n",
    "    \n",
    "API key : 03351b92426b464499f9b05790d6894b\n",
    "'''"
   ]
  },
  {
   "cell_type": "code",
   "execution_count": 2,
   "id": "f1dfad9957531d47",
   "metadata": {
    "ExecuteTime": {
     "end_time": "2024-05-07T10:58:52.165724Z",
     "start_time": "2024-05-07T10:58:37.475331Z"

    }
   },
   "outputs": [
    {
     "name": "stdout",
     "output_type": "stream",
     "text": [
      "Requirement already satisfied: sqlalchemy in /opt/anaconda3/lib/python3.11/site-packages (2.0.25)\n",
      "Requirement already satisfied: typing-extensions>=4.6.0 in /opt/anaconda3/lib/python3.11/site-packages (from sqlalchemy) (4.9.0)\n",
      "Requirement already satisfied: greenlet!=0.4.17 in /opt/anaconda3/lib/python3.11/site-packages (from sqlalchemy) (3.0.1)\n",
      "Collecting googletrans==3.1.0a0\n",
      "  Using cached googletrans-3.1.0a0.tar.gz (19 kB)\n",
      "  Preparing metadata (setup.py) ... \u001b[?25ldone\n",
      "\u001b[?25hRequirement already satisfied: httpx==0.13.3 in /opt/anaconda3/lib/python3.11/site-packages (from googletrans==3.1.0a0) (0.13.3)\n",
      "Requirement already satisfied: certifi in /opt/anaconda3/lib/python3.11/site-packages (from httpx==0.13.3->googletrans==3.1.0a0) (2024.2.2)\n",
      "Requirement already satisfied: hstspreload in /opt/anaconda3/lib/python3.11/site-packages (from httpx==0.13.3->googletrans==3.1.0a0) (2024.5.1)\n",
      "Requirement already satisfied: sniffio in /opt/anaconda3/lib/python3.11/site-packages (from httpx==0.13.3->googletrans==3.1.0a0) (1.3.0)\n",
      "Requirement already satisfied: chardet==3.* in /opt/anaconda3/lib/python3.11/site-packages (from httpx==0.13.3->googletrans==3.1.0a0) (3.0.4)\n",
      "Requirement already satisfied: idna==2.* in /opt/anaconda3/lib/python3.11/site-packages (from httpx==0.13.3->googletrans==3.1.0a0) (2.10)\n",
      "Requirement already satisfied: rfc3986<2,>=1.3 in /opt/anaconda3/lib/python3.11/site-packages (from httpx==0.13.3->googletrans==3.1.0a0) (1.5.0)\n",
      "Requirement already satisfied: httpcore==0.9.* in /opt/anaconda3/lib/python3.11/site-packages (from httpx==0.13.3->googletrans==3.1.0a0) (0.9.1)\n",
      "Requirement already satisfied: h11<0.10,>=0.8 in /opt/anaconda3/lib/python3.11/site-packages (from httpcore==0.9.*->httpx==0.13.3->googletrans==3.1.0a0) (0.9.0)\n",
      "Requirement already satisfied: h2==3.* in /opt/anaconda3/lib/python3.11/site-packages (from httpcore==0.9.*->httpx==0.13.3->googletrans==3.1.0a0) (3.2.0)\n",
      "Requirement already satisfied: hyperframe<6,>=5.2.0 in /opt/anaconda3/lib/python3.11/site-packages (from h2==3.*->httpcore==0.9.*->httpx==0.13.3->googletrans==3.1.0a0) (5.2.0)\n",
      "Requirement already satisfied: hpack<4,>=3.0 in /opt/anaconda3/lib/python3.11/site-packages (from h2==3.*->httpcore==0.9.*->httpx==0.13.3->googletrans==3.1.0a0) (3.0.0)\n",
      "Building wheels for collected packages: googletrans\n",
      "  Building wheel for googletrans (setup.py) ... \u001b[?25ldone\n",
      "\u001b[?25h  Created wheel for googletrans: filename=googletrans-3.1.0a0-py3-none-any.whl size=16352 sha256=436a008d9ae8b055d865807f9caea58c7f6d0ae0f153b824ffddcea6d7ca4bf9\n",
      "  Stored in directory: /Users/sep037/Library/Caches/pip/wheels/81/f2/e0/d578821d723b473d18610ea93810e4a5402463919f07e603d9\n",
      "Successfully built googletrans\n",
      "Installing collected packages: googletrans\n",
      "  Attempting uninstall: googletrans\n",
      "    Found existing installation: googletrans 4.0.0rc1\n",
      "    Uninstalling googletrans-4.0.0rc1:\n",
      "      Successfully uninstalled googletrans-4.0.0rc1\n",
      "Successfully installed googletrans-3.1.0a0\n"
     ]
    }
   ],
   "source": [
    "! pip install sqlalchemy\n",
    "! pip install googletrans==3.1.0a0"
   ]
  },
  {
   "cell_type": "code",
   "execution_count": 3,
   "id": "e31ffa12f6b75364",
   "metadata": {
    "ExecuteTime": {
     "end_time": "2024-05-07T10:58:52.179860Z",
     "start_time": "2024-05-07T10:58:52.169131Z"

    }
   },
   "outputs": [],
   "source": [
    "class Recipe:\n",
    "    def __init__(self, recipe_id, food_name, food_img, temp_id):\n",
    "        self.recipe_id = recipe_id  # DB에서 자동으로 할당됨\n",
    "        self.food_name = food_name\n",
    "        self.food_img = food_img\n",
    "        self.temp_id = temp_id\n",
    "\n",
    "    def updateFoodName(self, food_name):\n",
    "        self.food_name = food_name\n",
    "\n",
    "\n",
    "class FoodInformation:\n",
    "    def __init__(self, recipe_id, text, cooking_time, serving):\n",
    "        self.id = None  # DB에서 자동으로 할당됨\n",
    "        self.recipe_id = recipe_id\n",
    "        self.text = text\n",
    "        self.cooking_time = cooking_time\n",
    "        self.serving = serving\n",
    "\n",
    "    def updateText(self, text):\n",
    "        self.text = text\n",
    "\n",
    "\n",
    "class Ingredient:\n",
    "    def __init__(self, recipe_id, ingredient_name, amount):\n",
    "        self.id = None  # DB에서 자동으로 할당됨\n",
    "        self.recipe_id = recipe_id\n",
    "        self.ingredient_name = ingredient_name\n",
    "        self.amount = amount\n",
    "\n",
    "    def updateIngredient(self, ingredient_name):\n",
    "        self.ingredient_name = ingredient_name\n",
    "\n",
    "class CookStep:\n",
    "    def __init__(self, recipe_id, step_number, text, step_img):\n",
    "        self.id = None  # DB에서 자동으로 할당됨\n",
    "        self.recipe_id = recipe_id\n",
    "        self.step_number = step_number\n",
    "        self.text = text\n",
    "        self.step_img = step_img\n",
    "\n",
    "    def updateCookstep(self, text):\n",
    "        self.text = text\n",
    "       \n",
    "       \n",
    "\n",
    "\n"
   ]
  },
  {
   "cell_type": "code",
   "execution_count": 4,
   "id": "9167a51b",
   "metadata": {
    "ExecuteTime": {
     "end_time": "2024-05-07T10:58:58.312762Z",
     "start_time": "2024-05-07T10:58:52.184227Z"
    }
   },
   "outputs": [
    {
     "name": "stdout",
     "output_type": "stream",
     "text": [
      "Requirement already satisfied: PyMySQL in /opt/anaconda3/lib/python3.11/site-packages (1.1.0)\r\n"
     ]
    }
   ],
   "source": [
    "! pip install PyMySQL;"
   ]
  },
  {
   "cell_type": "code",
   "execution_count": 5,
   "id": "2e3527df6cdd6c45",
   "metadata": {
    "ExecuteTime": {
     "end_time": "2024-05-07T10:58:59.055948Z",
     "start_time": "2024-05-07T10:58:58.315786Z"
    }
   },

   "outputs": [
    {
     "name": "stderr",
     "output_type": "stream",
     "text": [
      "/var/folders/q3/lprlv9td5096tj9v5dtxzw7h0000gn/T/ipykernel_40849/2135257331.py:22: MovedIn20Warning: The ``declarative_base()`` function is now available as sqlalchemy.orm.declarative_base(). (deprecated since: 2.0) (Background on SQLAlchemy 2.0 at: https://sqlalche.me/e/b8d9)\n",

      "  Base = declarative_base()\n"
     ]
    }
   ],
   "source": [
    "from sqlalchemy.dialects.oracle import LONG\n",
    "from sqlalchemy import Column, Integer, String, ForeignKey, DateTime, create_engine\n",
    "from sqlalchemy.orm import relationship, sessionmaker\n",
    "from sqlalchemy.ext.declarative import declarative_base\n",
    "from sqlalchemy.dialects import mysql\n",
    "\n",
    "\n",
    "# 데이터베이스 연결 설정\n",
    "db_name = \"tastyhub\"\n",
    "db_host = \"localhost\"\n",
    "db_username = \"root\"\n",
    "db_password = \"1234\"\n",
    "\n",
    "# SQLAlchemy 엔진 생성\n",
    "engine = create_engine(f\"mysql+pymysql://{db_username}:{db_password}@{db_host}/{db_name}\")\n",
    "\n",
    "# 세션 생성\n",
    "Session = sessionmaker(bind=engine)\n",
    "session = Session()\n",
    "\n",
    "# 기본 클래스 생성\n",
    "Base = declarative_base()\n",
    "\n",
    "\n",
    "# Recipe 클래스를 데이터베이스 테이블로 매핑\n",
    "class TRecipe(Base):\n",
    "    __tablename__ = 'recipes'\n",
    "\n",
    "    recipe_id = Column(mysql.BIGINT, primary_key=True, autoincrement=True)\n",
    "    food_name = Column(String(255))\n",
    "    food_img = Column(String(255))\n",
    "    # created_at = Column(DateTime)\n",
    "    # modified_at = Column(DateTime)\n",
    "    # user_id = Column(Integer,ForeignKey('users.user_id'))\n",
    "\n",
    "    food_information = relationship('TFoodInformation', back_populates='recipe')\n",
    "    ingredient = relationship('TIngredient', back_populates='recipe')\n",
    "    cook_steps = relationship('TCookStep', back_populates='recipe')\n",
    "\n",
    "# FoodInformation 클래스를 데이터베이스 테이블로 매핑\n",
    "class TFoodInformation(Base):\n",
    "    __tablename__ = 'food_information'\n",
    "\n",
    "    food_information_id = Column(mysql.BIGINT, primary_key=True, autoincrement=True)\n",
    "    recipe_id = Column(mysql.BIGINT, ForeignKey('recipes.recipe_id'))\n",
    "    text = Column(String(1000))\n",
    "    cooking_time = Column(Integer)\n",
    "    serving = Column(Integer)\n",
    "    created_at = Column(DateTime)\n",
    "    modified_at = Column(DateTime)\n",
    "\n",
    "    recipe = relationship('TRecipe', back_populates='food_information')\n",
    "\n",
    "# Ingredient 클래스를 데이터베이스 테이블로 매핑\n",
    "class TIngredient(Base):\n",
    "    __tablename__ = 'ingredient'\n",
    "\n",
    "    ingredient_id = Column(mysql.BIGINT, primary_key=True, autoincrement=True)\n",
    "    recipe_id = Column(mysql.BIGINT, ForeignKey('recipes.recipe_id'))\n",
    "    ingredient_name = Column(String(255))\n",
    "    amount = Column(String(100))\n",
    "    created_at = Column(DateTime)\n",
    "    modified_at = Column(DateTime)\n",
    "\n",
    "    recipe = relationship('TRecipe', back_populates='ingredient')\n",
    "\n",
    "# CookStep 클래스를 데이터베이스 테이블로 매핑\n",
    "class TCookStep(Base):\n",
    "    __tablename__ = 'cook_steps'\n",
    "    __tablename__ = 'cook_steps'\n",
    "\n",
    "    cookstep_id = Column(mysql.BIGINT, primary_key=True, autoincrement=True)\n",
    "    \n",
    "    recipe_id = Column(mysql.BIGINT, ForeignKey('recipes.recipe_id'))\n",
    "    step_number = Column(Integer)\n",
    "    text = Column(String(1000))\n",
    "    step_img_url = Column(String(255))\n",
    "    created_at = Column(DateTime)\n",
    "    modified_at = Column(DateTime)\n",
    "\n",
    "    recipe = relationship('TRecipe', back_populates='cook_steps')\n",
    "# 테이블 생성\n",
    "Base.metadata.create_all(engine)\n",
    "\n",
    "# 세션 종료\n",
    "session.close()"
   ]
  },
  {
   "cell_type": "code",
   "execution_count": 6,
   "id": "cac70d88276c1c94",
   "metadata": {
    "ExecuteTime": {
     "end_time": "2024-05-07T10:58:59.069615Z",
     "start_time": "2024-05-07T10:58:59.059817Z"
    }
   },

   "outputs": [],
   "source": [
    "# Recipe 객체를 TRecipe 객체로 변환하는 함수\n",
    "def convert_to_trecipe(recipe):\n",
    "    print(recipe.food_name)\n",
    "    trecipe = TRecipe(\n",
    "        # recipe_id=recipe.recipe_id,\n",
    "        food_name=recipe.food_name,\n",
    "        food_img=recipe.food_img,\n",
    "        # created_at=DateTime.\n",
    "    )\n",
    "    print(trecipe.food_name)\n",
    "    return trecipe\n",
    "\n",
    "# FoodInformation 객체를 TFoodInformation 객체로 변환하는 함수\n",
    "def convert_to_tfoodinformation(food_information,trecipe):\n",
    "    tfood_information = TFoodInformation(\n",
    "        recipe_id=food_information.recipe_id,\n",
    "        text=food_information.text,\n",
    "        cooking_time=food_information.cooking_time,\n",
    "        serving=food_information.serving,\n",
    "        recipe = trecipe\n",
    "    )\n",
    "    return tfood_information\n",
    "\n",
    "# Ingredient 객체를 TIngredient 객체로 변환하는 함수\n",
    "def convert_to_tingredient(ingredient,trecipe):\n",
    "    tingredient = TIngredient(\n",
    "        recipe_id=ingredient.recipe_id,\n",
    "        ingredient_name=ingredient.ingredient_name,\n",
    "        amount=ingredient.amount,\n",
    "        recipe = trecipe\n",
    "    )\n",
    "    return tingredient\n",
    "\n",
    "# CookStep 객체를 TCookStep 객체로 변환하는 함수\n",
    "def convert_to_tcookstep(cook_step,trecipe):\n",
    "    tcook_step = TCookStep(\n",
    "        recipe_id=cook_step.recipe_id,\n",
    "        step_number=cook_step.step_number,\n",
    "        text=cook_step.text,\n",
    "        step_img_url=cook_step.step_img,\n",
    "        recipe = trecipe\n",
    "    )\n",
    "    return tcook_step\n"
   ]
  },
  {
   "cell_type": "code",
   "execution_count": 7,
   "id": "168acf1e688e7acd",
   "metadata": {
    "ExecuteTime": {
     "end_time": "2024-05-07T10:59:00.335998Z",
     "start_time": "2024-05-07T10:58:59.073513Z"

    }
   },
   "outputs": [],
   "source": [
    "import requests\n",
    "\n",
    "all_search_url = 'https://api.spoonacular.com/recipes/complexSearch?number=&apiKey=03351b92426b464499f9b05790d6894b'\n",
    "response = requests.get(all_search_url)"
   ]
  },
  {
   "cell_type": "code",
   "execution_count": 8,
   "id": "ac8cc06cccf75c5f",
   "metadata": {
    "ExecuteTime": {
     "end_time": "2024-05-07T10:59:00.349259Z",
     "start_time": "2024-05-07T10:59:00.338975Z"

    }
   },
   "outputs": [
    {
     "name": "stdout",
     "output_type": "stream",
     "text": [
      "{\"results\":[{\"id\":715415,\"title\":\"Red Lentil Soup with Chicken and Turnips\",\"image\":\"https://img.spoonacular.com/recipes/715415-312x231.jpg\",\"imageType\":\"jpg\"},{\"id\":716406,\"title\":\"Asparagus and Pea Soup: Real Convenience Food\",\"image\":\"https://img.spoonacular.com/recipes/716406-312x231.jpg\",\"imageType\":\"jpg\"},{\"id\":644387,\"title\":\"Garlicky Kale\",\"image\":\"https://img.spoonacular.com/recipes/644387-312x231.jpg\",\"imageType\":\"jpg\"},{\"id\":715446,\"title\":\"Slow Cooker Beef Stew\",\"image\":\"https://img.spoonacular.com/recipes/715446-312x231.jpg\",\"imageType\":\"jpg\"},{\"id\":782601,\"title\":\"Red Kidney Bean Jambalaya\",\"image\":\"https://img.spoonacular.com/recipes/782601-312x231.jpg\",\"imageType\":\"jpg\"},{\"id\":716426,\"title\":\"Cauliflower, Brown Rice, and Vegetable Fried Rice\",\"image\":\"https://img.spoonacular.com/recipes/716426-312x231.jpg\",\"imageType\":\"jpg\"},{\"id\":716004,\"title\":\"Quinoa and Chickpea Salad with Sun-Dried Tomatoes and Dried Cherries\",\"image\":\"https://img.spoonacular.com/recipes/716004-312x231.jpg\",\"imageType\":\"jpg\"},{\"id\":716627,\"title\":\"Easy Homemade Rice and Beans\",\"image\":\"https://img.spoonacular.com/recipes/716627-312x231.jpg\",\"imageType\":\"jpg\"},{\"id\":664147,\"title\":\"Tuscan White Bean Soup with Olive Oil and Rosemary\",\"image\":\"https://img.spoonacular.com/recipes/664147-312x231.jpg\",\"imageType\":\"jpg\"},{\"id\":640941,\"title\":\"Crunchy Brussels Sprouts Side Dish\",\"image\":\"https://img.spoonacular.com/recipes/640941-312x231.jpg\",\"imageType\":\"jpg\"}],\"offset\":0,\"number\":10,\"totalResults\":5158}\n"
     ]
    }
   ],
   "source": [
    "print(response.text)"
   ]
  },
  {
   "cell_type": "code",
   "execution_count": 9,
   "id": "3ca64d80053571df",

   "metadata": {
    "ExecuteTime": {
     "end_time": "2024-05-07T10:59:00.361193Z",
     "start_time": "2024-05-07T10:59:00.356451Z"

    }
   },
   "outputs": [],
   "source": [
    "import json"
   ]
  },
  {
   "cell_type": "code",
   "execution_count": 10,
   "id": "e9d903801480958a",
   "metadata": {
    "ExecuteTime": {
     "end_time": "2024-05-07T10:59:00.378168Z",
     "start_time": "2024-05-07T10:59:00.371303Z"

    }
   },
   "outputs": [
    {
     "name": "stdout",
     "output_type": "stream",
     "text": [
      "<class 'dict'>\n",
      "<__main__.Recipe object at 0x113b65a10>\n",
      "<class 'dict'>\n",
      "<__main__.Recipe object at 0x11326f290>\n",
      "<class 'dict'>\n",
      "<__main__.Recipe object at 0x113b65e10>\n",
      "<class 'dict'>\n",
      "<__main__.Recipe object at 0x113b65dd0>\n",
      "<class 'dict'>\n",
      "<__main__.Recipe object at 0x113b65e50>\n",
      "<class 'dict'>\n",
      "<__main__.Recipe object at 0x113b65f90>\n",
      "<class 'dict'>\n",
      "<__main__.Recipe object at 0x113b65fd0>\n",
      "<class 'dict'>\n",
      "<__main__.Recipe object at 0x113b66050>\n",
      "<class 'dict'>\n",
      "<__main__.Recipe object at 0x113b660d0>\n",
      "<class 'dict'>\n",
      "<__main__.Recipe object at 0x113b65f10>\n",

      "Red Lentil Soup with Chicken and Turnips\n",
      "10\n"
     ]
    }
   ],
   "source": [
    "data = json.loads(response.text)\n",
    "list_id = 0\n",
    "recipes = []\n",
    "# Iterate over each item in the list of results\n",
    "for result in data[\"results\"]:\n",
    "    # Access each attribute of the result\n",
    "    print(type(result))\n",
    "    recipe_id = list_id\n",
    "    title = result[\"title\"]\n",
    "    image = result[\"image\"]\n",
    "    temp_id = result[\"id\"]\n",
    "    \n",
    "    recipe = Recipe(recipe_id, title, image, temp_id)\n",
    "    print(recipe)\n",
    "\n",
    "    recipes.append(recipe)\n",
    "    list_id += 1\n",
    "\n",
    "print(recipes[0].food_name)  # Just for formatting\n",
    "\n",
    "print(len(recipes))"
   ]
  },
  {
   "cell_type": "code",
   "execution_count": 11,
   "id": "3a6bba5e7b8fd7ad",
   "metadata": {
    "ExecuteTime": {
     "end_time": "2024-05-07T10:59:03.569882Z",
     "start_time": "2024-05-07T10:59:00.386227Z"
    }
   },

   "outputs": [],
   "source": [
    "foodInformations = []\n",
    "ingredients = []\n",
    "cookSteps = []\n",
    "for obj in recipes:\n",
    "    recipe_temp_id = obj.temp_id\n",
    "    if obj.recipe_id == 3 :\n",
    "        break\n",
    "    recipe_search_url = 'https://api.spoonacular.com/recipes/informationBulk?ids=' + str(\n",
    "        recipe_temp_id) + '&includeNutrition=false&apiKey=03351b92426b464499f9b05790d6894b'\n",
    "    response = requests.get(recipe_search_url)\n",
    "    text = response.text\n",
    "    data = json.loads(text)\n",
    "    for foodInfo in data:\n",
    "        text = foodInfo['summary']\n",
    "        cookingTime = foodInfo['readyInMinutes']\n",
    "        serving = foodInfo['servings']\n",
    "        foodInformation = FoodInformation(obj.recipe_id,text,cookingTime,serving)\n",
    "        foodInformations.append(foodInformation)\n",
    "\n",
    "        for ing in foodInfo['extendedIngredients']:\n",
    "            ingredient_name = ing['name']\n",
    "            amount = ing['amount']\n",
    "            ingredient = Ingredient(obj.recipe_id,ingredient_name, amount)\n",
    "            ingredients.append(ingredient)\n",
    "\n",
    "        for cks in foodInfo['analyzedInstructions']:\n",
    "            ck = cks['steps']\n",
    "            for c in ck:\n",
    "                stepNumber = c['number']\n",
    "                text = c['step']\n",
    "                stepImg = \"afterRefactor\"\n",
    "                cookStep = CookStep(obj.recipe_id,stepNumber,text,stepImg)\n",
    "                cookSteps.append(cookStep)\n",
    "    \n"
   ]
  },
  {
   "cell_type": "code",
   "execution_count": 12,
   "id": "f7c4659fd7427a6f",
   "metadata": {
    "ExecuteTime": {
     "end_time": "2024-05-07T10:59:03.578985Z",
     "start_time": "2024-05-07T10:59:03.571938Z"

    }
   },
   "outputs": [
    {
     "name": "stdout",
     "output_type": "stream",
     "text": [
      "0\n",
      "Red Lentil Soup with Chicken and Turnips\n",
      "Red Lentil Soup with Chicken and Turnips might be a good recipe to expand your main course repertoire. This recipe serves 8 and costs $3.0 per serving. One serving contains <b>477 calories</b>, <b>27g of protein</b>, and <b>20g of fat</b>. It is brought to you by Pink When. 1866 people have tried and liked this recipe. It can be enjoyed any time, but it is especially good for <b>Autumn</b>. From preparation to the plate, this recipe takes approximately <b>55 minutes</b>. It is a good option if you're following a <b>gluten free and dairy free</b> diet. Head to the store and pick up salt and pepper, canned tomatoes, flat leaf parsley, and a few other things to make it today. Overall, this recipe earns a <b>spectacular spoonacular score of 99%</b>. If you like this recipe, you might also like recipes such as <a href=\"https://spoonacular.com/recipes/red-lentil-and-chicken-soup-682185\">Red Lentil and Chicken Soup</a>, <a href=\"https://spoonacular.com/recipes/red-lentil-and-chicken-soup-1058971\">Red Lentil and Chicken Soup</a>, and <a href=\"https://spoonacular.com/recipes/red-lentil-soup-34121\">Red-Lentil Soup</a>.\n",
      "55\n",
      "8\n",
      "\n",
      "additional toppings: avocado\n",
      "8.0\n",
      "\n",
      "carrots\n",
      "3.0\n",
      "\n",
      "celery stalks\n",
      "3.0\n",
      "\n",
      "chicken breast\n",
      "2.0\n",
      "\n",
      "flat leaf parsley\n",
      "0.5\n",
      "\n",
      "garlic\n",
      "6.0\n",
      "\n",
      "olive oil\n",
      "2.0\n",
      "\n",
      "canned tomatoes\n",
      "28.0\n",
      "\n",
      "lentils\n",
      "2.0\n",
      "\n",
      "salt and pepper\n",
      "8.0\n",
      "\n",
      "turnip\n",
      "1.0\n",
      "\n",
      "vegetable stock\n",
      "8.0\n",
      "\n",
      "onion\n",
      "1.0\n",
      "\n",
      "To a large dutch oven or soup pot, heat the olive oil over medium heat.\n",
      "1\n",
      "afterRefactor\n",
      "\n",
      "Add the onion, carrots and celery and cook for 8-10 minutes or until tender, stirring occasionally.\n",
      "2\n",
      "afterRefactor\n",
      "\n",
      "Add the garlic and cook for an additional 2 minutes, or until fragrant. Season conservatively with a pinch of salt and black pepper.To the pot, add the tomatoes, turnip and red lentils. Stir to combine. Stir in the vegetable stock and increase the heat on the stove to high. Bring the soup to a boil and then reduce to a simmer. Simmer for 20 minutes or until the turnips are tender and the lentils are cooked through.\n",
      "3\n",
      "afterRefactor\n",
      "\n",
      "Add the chicken breast and parsley. Cook for an additional 5 minutes. Adjust seasoning to taste.\n",
      "4\n",
      "afterRefactor\n",
      "\n",
      "Serve the soup immediately garnished with fresh parsley and any additional toppings. Enjoy!\n",
      "5\n",
      "afterRefactor\n",
      "\n",
      "---------다음 레시피--------\n",
      "1\n",
      "Asparagus and Pea Soup: Real Convenience Food\n",
      "Asparagus and Pea Soup: Real Convenience Food requires approximately <b>20 minutes</b> from start to finish. Watching your figure? This gluten free, dairy free, paleolithic, and lacto ovo vegetarian recipe has <b>217 calories</b>, <b>11g of protein</b>, and <b>8g of fat</b> per serving. This recipe serves 2. For <b>$1.78 per serving</b>, this recipe <b>covers 25%</b> of your daily requirements of vitamins and minerals. <b>Autumn</b> will be even more special with this recipe. It works well as a hor d'oeuvre. 207 people have tried and liked this recipe. It is brought to you by fullbellysisters.blogspot.com. A mixture of vegetable broth, evoo, garlic, and a handful of other ingredients are all it takes to make this recipe so yummy. All things considered, we decided this recipe <b>deserves a spoonacular score of 96%</b>. This score is outstanding. Try <a href=\"https://spoonacular.com/recipes/asparagus-and-pea-soup-real-convenience-food-1393979\">Asparagus and Pea Soup: Real Convenience Food</a>, <a href=\"https://spoonacular.com/recipes/asparagus-and-pea-soup-real-convenience-food-1376201\">Asparagus and Pea Soup: Real Convenience Food</a>, and <a href=\"https://spoonacular.com/recipes/asparagus-and-pea-soup-real-convenience-food-1362341\">Asparagus and Pea Soup: Real Convenience Food</a> for similar recipes.\n",
      "20\n",
      "2\n",
      "\n",
      "asparagus\n",
      "1.0\n",
      "\n",
      "evoo\n",
      "1.0\n",
      "\n",
      "garlic\n",
      "2.0\n",
      "\n",
      "onion\n",
      "0.5\n",
      "\n",
      "peas\n",
      "2.0\n",
      "\n",
      "vegetable broth\n",
      "1.0\n",
      "\n",
      "Chop the garlic and onions.\n",
      "1\n",
      "afterRefactor\n",
      "\n",
      "Saute the onions in the EVOO, adding the garlic after a couple of minutes; cook until the onions are translucent.\n",
      "2\n",
      "afterRefactor\n",
      "\n",
      "Add the whole bag of asparagus and cover everything with the broth. Season with salt and pepper and a pinch of red pepper flakes, if using.Simmer until the asparagus is bright green and tender (if you've thawed the asparagus it will only take a couple of minutes). Turn off the heat and puree using an immersion blender.\n",
      "3\n",
      "afterRefactor\n",
      "\n",
      "Add peas (the heat of the soup will quickly thaw them) and puree until smooth; add more until it reaches the thickness you like.Top with chives and a small dollop of creme fraiche or sour cream or greek yogurt.\n",
      "4\n",
      "afterRefactor\n",
      "\n",
      "---------다음 레시피--------\n",
      "2\n",
      "Garlicky Kale\n",
      "Garlicky Kale requires approximately <b>45 minutes</b> from start to finish. This side dish has <b>170 calories</b>, <b>2g of protein</b>, and <b>15g of fat</b> per serving. This recipe serves 2. For <b>69 cents per serving</b>, this recipe <b>covers 17%</b> of your daily requirements of vitamins and minerals. 19 people have made this recipe and would make it again. This recipe from Foodista requires balsamic vinegar, garlic, curly kale, and olive oil. It is a good option if you're following a <b>gluten free, dairy free, paleolithic, and lacto ovo vegetarian</b> diet. With a spoonacular <b>score of 99%</b>, this dish is outstanding. Try <a href=\"https://spoonacular.com/recipes/garlicky-kale-248759\">Garlicky Kale</a>, <a href=\"https://spoonacular.com/recipes/garlicky-kale-1267347\">Garlicky Kale</a>, and <a href=\"https://spoonacular.com/recipes/garlicky-kale-1584523\">Garlicky Kale</a> for similar recipes.\n",
      "45\n",
      "2\n",
      "\n",
      "balsamic vinegar\n",
      "3.0\n",
      "\n",
      "garlic\n",
      "1.0\n",
      "\n",
      "curly kale\n",
      "1.0\n",
      "\n",
      "olive oil\n",
      "2.0\n",
      "\n",
      "Heat the olive oil in a large pot over medium heat.\n",
      "1\n",
      "afterRefactor\n",
      "\n",
      "Add the kale and cover.Stir occasionally until the volume of the kale is reduced by half. Uncover.\n",
      "2\n",
      "afterRefactor\n",
      "\n",
      "Add garlic and basalmic.Allow to cook for about another 30 seconds or so, mixing well so that the garlic and vinegar are well distributed.\n",
      "3\n",
      "afterRefactor\n",
      "\n",
      "Serve hot.\n",
      "4\n",
      "afterRefactor\n",
      "\n",
      "---------다음 레시피--------\n",
      "3\n"
     ]
    }
   ],
   "source": [
    "for rec in recipes:\n",
    "    id = rec.recipe_id\n",
    "    print(id)\n",
    "    if id == 3:\n",
    "        break\n",
    "    print(rec.food_name)\n",
    "    for fi in foodInformations:\n",
    "        if id == fi.recipe_id:\n",
    "            print(fi.text)\n",
    "            print(fi.cooking_time)\n",
    "            print(fi.serving)\n",
    "            print()\n",
    "\n",
    "    for ig in ingredients:\n",
    "        if id == ig.recipe_id:\n",
    "            print(ig.ingredient_name)\n",
    "            print(ig.amount)\n",
    "            print()\n",
    "\n",
    "    for cs in cookSteps:\n",
    "        if id == cs.recipe_id:\n",
    "            print(cs.text)\n",
    "            print(cs.step_number)\n",
    "            print(cs.step_img)\n",
    "            print()\n",
    "\n",
    "    print(\"---------다음 레시피--------\")"
   ]
  },
  {
   "cell_type": "code",
   "execution_count": 13,
   "id": "a386c36b879bbf7",
   "metadata": {
    "ExecuteTime": {
     "end_time": "2024-05-07T10:59:03.585705Z",
     "start_time": "2024-05-07T10:59:03.582149Z"
    }
   },

   "outputs": [],
   "source": [
    "import re\n",
    "\n",
    "def remove_html_tags(text):\n",
    "    clean = re.compile('<.*?>')\n",
    "    return re.sub(clean, '', text)\n"
   ]
  },
  {
   "cell_type": "code",
   "execution_count": 14,
   "id": "fbf0fae5e0fa1c",
   "metadata": {
    "ExecuteTime": {
     "end_time": "2024-05-07T10:59:03.601538Z",
     "start_time": "2024-05-07T10:59:03.591316Z"
    }
   },

   "outputs": [
    {
     "name": "stdout",
     "output_type": "stream",
     "text": [
      "Red Lentil Soup with Chicken and Turnips might be a good recipe to expand your main course repertoire. This recipe serves 8 and costs $3.0 per serving. One serving contains 477 calories, 27g of protein, and 20g of fat. It is brought to you by Pink When. 1866 people have tried and liked this recipe. It can be enjoyed any time, but it is especially good for Autumn. From preparation to the plate, this recipe takes approximately 55 minutes. It is a good option if you're following a gluten free and dairy free diet. Head to the store and pick up salt and pepper, canned tomatoes, flat leaf parsley, and a few other things to make it today. Overall, this recipe earns a spectacular spoonacular score of 99%. If you like this recipe, you might also like recipes such as Red Lentil and Chicken Soup, Red Lentil and Chicken Soup, and Red-Lentil Soup.\n",
      "Asparagus and Pea Soup: Real Convenience Food requires approximately 20 minutes from start to finish. Watching your figure? This gluten free, dairy free, paleolithic, and lacto ovo vegetarian recipe has 217 calories, 11g of protein, and 8g of fat per serving. This recipe serves 2. For $1.78 per serving, this recipe covers 25% of your daily requirements of vitamins and minerals. Autumn will be even more special with this recipe. It works well as a hor d'oeuvre. 207 people have tried and liked this recipe. It is brought to you by fullbellysisters.blogspot.com. A mixture of vegetable broth, evoo, garlic, and a handful of other ingredients are all it takes to make this recipe so yummy. All things considered, we decided this recipe deserves a spoonacular score of 96%. This score is outstanding. Try Asparagus and Pea Soup: Real Convenience Food, Asparagus and Pea Soup: Real Convenience Food, and Asparagus and Pea Soup: Real Convenience Food for similar recipes.\n",
      "Garlicky Kale requires approximately 45 minutes from start to finish. This side dish has 170 calories, 2g of protein, and 15g of fat per serving. This recipe serves 2. For 69 cents per serving, this recipe covers 17% of your daily requirements of vitamins and minerals. 19 people have made this recipe and would make it again. This recipe from Foodista requires balsamic vinegar, garlic, curly kale, and olive oil. It is a good option if you're following a gluten free, dairy free, paleolithic, and lacto ovo vegetarian diet. With a spoonacular score of 99%, this dish is outstanding. Try Garlicky Kale, Garlicky Kale, and Garlicky Kale for similar recipes.\n"
     ]
    }
   ],
   "source": [
    "for fi in foodInformations:\n",
    "    text = fi.text\n",
    "    text = remove_html_tags(text)\n",
    "    fi.updateText(text)\n",
    "    print(fi.text)"
   ]
  },
  {
   "cell_type": "code",
   "execution_count": 15,
   "id": "e10e1855d8ff9eec",
   "metadata": {
    "ExecuteTime": {
     "end_time": "2024-05-07T10:59:05.459188Z",
     "start_time": "2024-05-07T10:59:03.605409Z"

    }
   },
   "outputs": [
    {
     "ename": "AttributeError",
     "evalue": "module 'httpcore' has no attribute 'UnsupportedProtocol'",
     "output_type": "error",
     "traceback": [
      "\u001b[0;31m---------------------------------------------------------------------------\u001b[0m",
      "\u001b[0;31mAttributeError\u001b[0m                            Traceback (most recent call last)",
      "Cell \u001b[0;32mIn[15], line 2\u001b[0m\n\u001b[1;32m      1\u001b[0m \u001b[38;5;66;03m# 번역 메서드\u001b[39;00m\n\u001b[0;32m----> 2\u001b[0m \u001b[38;5;28;01mfrom\u001b[39;00m \u001b[38;5;21;01mgoogletrans\u001b[39;00m \u001b[38;5;28;01mimport\u001b[39;00m Translator\n\u001b[1;32m      3\u001b[0m \u001b[38;5;66;03m#\\ https://pypi.org/project/googletrans/\u001b[39;00m\n\u001b[1;32m      5\u001b[0m translator \u001b[38;5;241m=\u001b[39m Translator()\n",
      "File \u001b[0;32m/opt/anaconda3/lib/python3.11/site-packages/googletrans/__init__.py:6\u001b[0m\n\u001b[1;32m      2\u001b[0m __all__ \u001b[38;5;241m=\u001b[39m \u001b[38;5;124m'\u001b[39m\u001b[38;5;124mTranslator\u001b[39m\u001b[38;5;124m'\u001b[39m,\n\u001b[1;32m      3\u001b[0m __version__ \u001b[38;5;241m=\u001b[39m \u001b[38;5;124m'\u001b[39m\u001b[38;5;124m3.1.0-alpha\u001b[39m\u001b[38;5;124m'\u001b[39m\n\u001b[0;32m----> 6\u001b[0m \u001b[38;5;28;01mfrom\u001b[39;00m \u001b[38;5;21;01mgoogletrans\u001b[39;00m\u001b[38;5;21;01m.\u001b[39;00m\u001b[38;5;21;01mclient\u001b[39;00m \u001b[38;5;28;01mimport\u001b[39;00m Translator\n\u001b[1;32m      7\u001b[0m \u001b[38;5;28;01mfrom\u001b[39;00m \u001b[38;5;21;01mgoogletrans\u001b[39;00m\u001b[38;5;21;01m.\u001b[39;00m\u001b[38;5;21;01mconstants\u001b[39;00m \u001b[38;5;28;01mimport\u001b[39;00m LANGCODES, LANGUAGES\n",
      "File \u001b[0;32m/opt/anaconda3/lib/python3.11/site-packages/googletrans/client.py:12\u001b[0m\n\u001b[1;32m      9\u001b[0m \u001b[38;5;28;01mimport\u001b[39;00m \u001b[38;5;21;01mre\u001b[39;00m\n\u001b[1;32m     11\u001b[0m \u001b[38;5;28;01mimport\u001b[39;00m \u001b[38;5;21;01mhttpcore\u001b[39;00m\n\u001b[0;32m---> 12\u001b[0m \u001b[38;5;28;01mimport\u001b[39;00m \u001b[38;5;21;01mhttpx\u001b[39;00m\n\u001b[1;32m     13\u001b[0m \u001b[38;5;28;01mfrom\u001b[39;00m \u001b[38;5;21;01mhttpx\u001b[39;00m \u001b[38;5;28;01mimport\u001b[39;00m Timeout\n\u001b[1;32m     15\u001b[0m \u001b[38;5;28;01mfrom\u001b[39;00m \u001b[38;5;21;01mgoogletrans\u001b[39;00m \u001b[38;5;28;01mimport\u001b[39;00m urls, utils\n",
      "File \u001b[0;32m/opt/anaconda3/lib/python3.11/site-packages/httpx/__init__.py:2\u001b[0m\n\u001b[1;32m      1\u001b[0m \u001b[38;5;28;01mfrom\u001b[39;00m \u001b[38;5;21;01m.\u001b[39;00m\u001b[38;5;21;01m__version__\u001b[39;00m \u001b[38;5;28;01mimport\u001b[39;00m __description__, __title__, __version__\n\u001b[0;32m----> 2\u001b[0m \u001b[38;5;28;01mfrom\u001b[39;00m \u001b[38;5;21;01m.\u001b[39;00m\u001b[38;5;21;01m_api\u001b[39;00m \u001b[38;5;28;01mimport\u001b[39;00m delete, get, head, options, patch, post, put, request, stream\n\u001b[1;32m      3\u001b[0m \u001b[38;5;28;01mfrom\u001b[39;00m \u001b[38;5;21;01m.\u001b[39;00m\u001b[38;5;21;01m_auth\u001b[39;00m \u001b[38;5;28;01mimport\u001b[39;00m Auth, BasicAuth, DigestAuth, NetRCAuth\n\u001b[1;32m      4\u001b[0m \u001b[38;5;28;01mfrom\u001b[39;00m \u001b[38;5;21;01m.\u001b[39;00m\u001b[38;5;21;01m_client\u001b[39;00m \u001b[38;5;28;01mimport\u001b[39;00m USE_CLIENT_DEFAULT, AsyncClient, Client\n",
      "File \u001b[0;32m/opt/anaconda3/lib/python3.11/site-packages/httpx/_api.py:4\u001b[0m\n\u001b[1;32m      1\u001b[0m \u001b[38;5;28;01mimport\u001b[39;00m \u001b[38;5;21;01mtyping\u001b[39;00m\n\u001b[1;32m      2\u001b[0m \u001b[38;5;28;01mfrom\u001b[39;00m \u001b[38;5;21;01mcontextlib\u001b[39;00m \u001b[38;5;28;01mimport\u001b[39;00m contextmanager\n\u001b[0;32m----> 4\u001b[0m \u001b[38;5;28;01mfrom\u001b[39;00m \u001b[38;5;21;01m.\u001b[39;00m\u001b[38;5;21;01m_client\u001b[39;00m \u001b[38;5;28;01mimport\u001b[39;00m Client\n\u001b[1;32m      5\u001b[0m \u001b[38;5;28;01mfrom\u001b[39;00m \u001b[38;5;21;01m.\u001b[39;00m\u001b[38;5;21;01m_config\u001b[39;00m \u001b[38;5;28;01mimport\u001b[39;00m DEFAULT_TIMEOUT_CONFIG\n\u001b[1;32m      6\u001b[0m \u001b[38;5;28;01mfrom\u001b[39;00m \u001b[38;5;21;01m.\u001b[39;00m\u001b[38;5;21;01m_models\u001b[39;00m \u001b[38;5;28;01mimport\u001b[39;00m Response\n",
      "File \u001b[0;32m/opt/anaconda3/lib/python3.11/site-packages/httpx/_client.py:30\u001b[0m\n\u001b[1;32m     28\u001b[0m \u001b[38;5;28;01mfrom\u001b[39;00m \u001b[38;5;21;01m.\u001b[39;00m\u001b[38;5;21;01m_transports\u001b[39;00m\u001b[38;5;21;01m.\u001b[39;00m\u001b[38;5;21;01masgi\u001b[39;00m \u001b[38;5;28;01mimport\u001b[39;00m ASGITransport\n\u001b[1;32m     29\u001b[0m \u001b[38;5;28;01mfrom\u001b[39;00m \u001b[38;5;21;01m.\u001b[39;00m\u001b[38;5;21;01m_transports\u001b[39;00m\u001b[38;5;21;01m.\u001b[39;00m\u001b[38;5;21;01mbase\u001b[39;00m \u001b[38;5;28;01mimport\u001b[39;00m AsyncBaseTransport, BaseTransport\n\u001b[0;32m---> 30\u001b[0m \u001b[38;5;28;01mfrom\u001b[39;00m \u001b[38;5;21;01m.\u001b[39;00m\u001b[38;5;21;01m_transports\u001b[39;00m\u001b[38;5;21;01m.\u001b[39;00m\u001b[38;5;21;01mdefault\u001b[39;00m \u001b[38;5;28;01mimport\u001b[39;00m AsyncHTTPTransport, HTTPTransport\n\u001b[1;32m     31\u001b[0m \u001b[38;5;28;01mfrom\u001b[39;00m \u001b[38;5;21;01m.\u001b[39;00m\u001b[38;5;21;01m_transports\u001b[39;00m\u001b[38;5;21;01m.\u001b[39;00m\u001b[38;5;21;01mwsgi\u001b[39;00m \u001b[38;5;28;01mimport\u001b[39;00m WSGITransport\n\u001b[1;32m     32\u001b[0m \u001b[38;5;28;01mfrom\u001b[39;00m \u001b[38;5;21;01m.\u001b[39;00m\u001b[38;5;21;01m_types\u001b[39;00m \u001b[38;5;28;01mimport\u001b[39;00m (\n\u001b[1;32m     33\u001b[0m     AsyncByteStream,\n\u001b[1;32m     34\u001b[0m     AuthTypes,\n\u001b[0;32m   (...)\u001b[0m\n\u001b[1;32m     48\u001b[0m     VerifyTypes,\n\u001b[1;32m     49\u001b[0m )\n",
      "File \u001b[0;32m/opt/anaconda3/lib/python3.11/site-packages/httpx/_transports/default.py:98\u001b[0m\n\u001b[1;32m     83\u001b[0m         message \u001b[38;5;241m=\u001b[39m \u001b[38;5;28mstr\u001b[39m(exc)\n\u001b[1;32m     84\u001b[0m         \u001b[38;5;28;01mraise\u001b[39;00m mapped_exc(message) \u001b[38;5;28;01mfrom\u001b[39;00m \u001b[38;5;21;01mexc\u001b[39;00m\n\u001b[1;32m     87\u001b[0m HTTPCORE_EXC_MAP \u001b[38;5;241m=\u001b[39m {\n\u001b[1;32m     88\u001b[0m     httpcore\u001b[38;5;241m.\u001b[39mTimeoutException: TimeoutException,\n\u001b[1;32m     89\u001b[0m     httpcore\u001b[38;5;241m.\u001b[39mConnectTimeout: ConnectTimeout,\n\u001b[1;32m     90\u001b[0m     httpcore\u001b[38;5;241m.\u001b[39mReadTimeout: ReadTimeout,\n\u001b[1;32m     91\u001b[0m     httpcore\u001b[38;5;241m.\u001b[39mWriteTimeout: WriteTimeout,\n\u001b[1;32m     92\u001b[0m     httpcore\u001b[38;5;241m.\u001b[39mPoolTimeout: PoolTimeout,\n\u001b[1;32m     93\u001b[0m     httpcore\u001b[38;5;241m.\u001b[39mNetworkError: NetworkError,\n\u001b[1;32m     94\u001b[0m     httpcore\u001b[38;5;241m.\u001b[39mConnectError: ConnectError,\n\u001b[1;32m     95\u001b[0m     httpcore\u001b[38;5;241m.\u001b[39mReadError: ReadError,\n\u001b[1;32m     96\u001b[0m     httpcore\u001b[38;5;241m.\u001b[39mWriteError: WriteError,\n\u001b[1;32m     97\u001b[0m     httpcore\u001b[38;5;241m.\u001b[39mProxyError: ProxyError,\n\u001b[0;32m---> 98\u001b[0m     httpcore\u001b[38;5;241m.\u001b[39mUnsupportedProtocol: UnsupportedProtocol,\n\u001b[1;32m     99\u001b[0m     httpcore\u001b[38;5;241m.\u001b[39mProtocolError: ProtocolError,\n\u001b[1;32m    100\u001b[0m     httpcore\u001b[38;5;241m.\u001b[39mLocalProtocolError: LocalProtocolError,\n\u001b[1;32m    101\u001b[0m     httpcore\u001b[38;5;241m.\u001b[39mRemoteProtocolError: RemoteProtocolError,\n\u001b[1;32m    102\u001b[0m }\n\u001b[1;32m    105\u001b[0m \u001b[38;5;28;01mclass\u001b[39;00m \u001b[38;5;21;01mResponseStream\u001b[39;00m(SyncByteStream):\n\u001b[1;32m    106\u001b[0m     \u001b[38;5;28;01mdef\u001b[39;00m \u001b[38;5;21m__init__\u001b[39m(\u001b[38;5;28mself\u001b[39m, httpcore_stream: typing\u001b[38;5;241m.\u001b[39mIterable[\u001b[38;5;28mbytes\u001b[39m]) \u001b[38;5;241m-\u001b[39m\u001b[38;5;241m>\u001b[39m \u001b[38;5;28;01mNone\u001b[39;00m:\n",
      "\u001b[0;31mAttributeError\u001b[0m: module 'httpcore' has no attribute 'UnsupportedProtocol'"
     ]
    }
   ],
   "source": [
    "# 번역 메서드\n",
    "from googletrans import Translator\n",
    "#\\ https://pypi.org/project/googletrans/\n",
    "\n",
    "translator = Translator()\n",
    "\n",
    "for rec in recipes:\n",
    "    id = rec.recipe_id\n",
    "    if id == 3:\n",
    "        break\n",
    "    text = rec.food_name\n",
    "    translated = translator.translate(text,src=\"en\", dest=\"ko\")\n",
    "\n",
    "    rec.updateFoodName(str(translated.text))\n",
    "    print(rec.food_name)\n",
    "    for fi in foodInformations:\n",
    "        if id == fi.recipe_id:\n",
    "            fi.updateText(str(translator.translate(fi.text,dest=\"ko\").text))\n",
    "\n",
    "\n",
    "    for ig in ingredients:\n",
    "        if id == ig.recipe_id:\n",
    "            ig.updateIngredient(str(translator.translate(ig.ingredient_name, dest=\"ko\").text))\n",
    "\n",
    "\n",
    "    for cs in cookSteps:\n",
    "        if id == cs.recipe_id:\n",
    "            cs.updateCookstep(str(translator.translate(cs.text, dest=\"ko\").text))\n",
    "\n",
    "\n"
   ]
  },
  {
   "cell_type": "code",
   "execution_count": 16,
   "id": "30f946bb8ccc07d5",
   "metadata": {
    "ExecuteTime": {
     "end_time": "2024-05-07T10:59:42.379781Z",
     "start_time": "2024-05-07T10:59:42.372907Z"
    }
   },

   "outputs": [
    {
     "name": "stdout",
     "output_type": "stream",
     "text": [
      "0\n",
      "Red Lentil Soup with Chicken and Turnips\n",
      "Red Lentil Soup with Chicken and Turnips might be a good recipe to expand your main course repertoire. This recipe serves 8 and costs $3.0 per serving. One serving contains 477 calories, 27g of protein, and 20g of fat. It is brought to you by Pink When. 1866 people have tried and liked this recipe. It can be enjoyed any time, but it is especially good for Autumn. From preparation to the plate, this recipe takes approximately 55 minutes. It is a good option if you're following a gluten free and dairy free diet. Head to the store and pick up salt and pepper, canned tomatoes, flat leaf parsley, and a few other things to make it today. Overall, this recipe earns a spectacular spoonacular score of 99%. If you like this recipe, you might also like recipes such as Red Lentil and Chicken Soup, Red Lentil and Chicken Soup, and Red-Lentil Soup.\n",

      "55\n",
      "8\n",
      "\n",
      "additional toppings: avocado\n",
      "8.0\n",
      "\n",
      "carrots\n",
      "3.0\n",
      "\n",
      "celery stalks\n",
      "3.0\n",
      "\n",
      "chicken breast\n",
      "2.0\n",
      "\n",
      "flat leaf parsley\n",
      "0.5\n",
      "\n",
      "garlic\n",
      "6.0\n",
      "\n",
      "olive oil\n",
      "2.0\n",
      "\n",
      "canned tomatoes\n",
      "28.0\n",
      "\n",
      "lentils\n",
      "2.0\n",
      "\n",
      "salt and pepper\n",
      "8.0\n",
      "\n",
      "turnip\n",
      "1.0\n",
      "\n",
      "vegetable stock\n",
      "8.0\n",
      "\n",
      "onion\n",
      "1.0\n",
      "\n",
      "To a large dutch oven or soup pot, heat the olive oil over medium heat.\n",
      "1\n",
      "afterRefactor\n",
      "\n",
      "Add the onion, carrots and celery and cook for 8-10 minutes or until tender, stirring occasionally.\n",
      "2\n",
      "afterRefactor\n",
      "\n",
      "Add the garlic and cook for an additional 2 minutes, or until fragrant. Season conservatively with a pinch of salt and black pepper.To the pot, add the tomatoes, turnip and red lentils. Stir to combine. Stir in the vegetable stock and increase the heat on the stove to high. Bring the soup to a boil and then reduce to a simmer. Simmer for 20 minutes or until the turnips are tender and the lentils are cooked through.\n",
      "3\n",
      "afterRefactor\n",
      "\n",
      "Add the chicken breast and parsley. Cook for an additional 5 minutes. Adjust seasoning to taste.\n",
      "4\n",
      "afterRefactor\n",
      "\n",
      "Serve the soup immediately garnished with fresh parsley and any additional toppings. Enjoy!\n",
      "5\n",
      "afterRefactor\n",
      "\n",
      "---------다음 레시피--------\n",
      "1\n",
      "Asparagus and Pea Soup: Real Convenience Food\n",
      "Asparagus and Pea Soup: Real Convenience Food requires approximately 20 minutes from start to finish. Watching your figure? This gluten free, dairy free, paleolithic, and lacto ovo vegetarian recipe has 217 calories, 11g of protein, and 8g of fat per serving. This recipe serves 2. For $1.78 per serving, this recipe covers 25% of your daily requirements of vitamins and minerals. Autumn will be even more special with this recipe. It works well as a hor d'oeuvre. 207 people have tried and liked this recipe. It is brought to you by fullbellysisters.blogspot.com. A mixture of vegetable broth, evoo, garlic, and a handful of other ingredients are all it takes to make this recipe so yummy. All things considered, we decided this recipe deserves a spoonacular score of 96%. This score is outstanding. Try Asparagus and Pea Soup: Real Convenience Food, Asparagus and Pea Soup: Real Convenience Food, and Asparagus and Pea Soup: Real Convenience Food for similar recipes.\n",

      "20\n",
      "2\n",
      "\n",
      "asparagus\n",
      "1.0\n",
      "\n",
      "evoo\n",
      "1.0\n",
      "\n",
      "garlic\n",
      "2.0\n",
      "\n",
      "onion\n",
      "0.5\n",
      "\n",
      "peas\n",
      "2.0\n",
      "\n",
      "vegetable broth\n",
      "1.0\n",
      "\n",
      "Chop the garlic and onions.\n",
      "1\n",
      "afterRefactor\n",
      "\n",
      "Saute the onions in the EVOO, adding the garlic after a couple of minutes; cook until the onions are translucent.\n",
      "2\n",
      "afterRefactor\n",
      "\n",
      "Add the whole bag of asparagus and cover everything with the broth. Season with salt and pepper and a pinch of red pepper flakes, if using.Simmer until the asparagus is bright green and tender (if you've thawed the asparagus it will only take a couple of minutes). Turn off the heat and puree using an immersion blender.\n",
      "3\n",
      "afterRefactor\n",
      "\n",
      "Add peas (the heat of the soup will quickly thaw them) and puree until smooth; add more until it reaches the thickness you like.Top with chives and a small dollop of creme fraiche or sour cream or greek yogurt.\n",

      "4\n",
      "afterRefactor\n",
      "\n",
      "---------다음 레시피--------\n",
      "2\n",
      "Garlicky Kale\n",
      "Garlicky Kale requires approximately 45 minutes from start to finish. This side dish has 170 calories, 2g of protein, and 15g of fat per serving. This recipe serves 2. For 69 cents per serving, this recipe covers 17% of your daily requirements of vitamins and minerals. 19 people have made this recipe and would make it again. This recipe from Foodista requires balsamic vinegar, garlic, curly kale, and olive oil. It is a good option if you're following a gluten free, dairy free, paleolithic, and lacto ovo vegetarian diet. With a spoonacular score of 99%, this dish is outstanding. Try Garlicky Kale, Garlicky Kale, and Garlicky Kale for similar recipes.\n",
      "45\n",
      "2\n",
      "\n",
      "balsamic vinegar\n",
      "3.0\n",
      "\n",
      "garlic\n",
      "1.0\n",
      "\n",
      "curly kale\n",
      "1.0\n",
      "\n",
      "olive oil\n",
      "2.0\n",
      "\n",
      "Heat the olive oil in a large pot over medium heat.\n",
      "1\n",
      "afterRefactor\n",
      "\n",
      "Add the kale and cover.Stir occasionally until the volume of the kale is reduced by half. Uncover.\n",
      "2\n",
      "afterRefactor\n",
      "\n",
      "Add garlic and basalmic.Allow to cook for about another 30 seconds or so, mixing well so that the garlic and vinegar are well distributed.\n",
      "3\n",
      "afterRefactor\n",
      "\n",
      "Serve hot.\n",
      "4\n",
      "afterRefactor\n",
      "\n",
      "---------다음 레시피--------\n",
      "3\n"
     ]
    }
   ],
   "source": [
    "for rec in recipes:\n",
    "    id = rec.recipe_id\n",
    "    print(id)\n",
    "    if id == 3:\n",
    "        break\n",
    "    print(rec.food_name)\n",
    "    for fi in foodInformations:\n",
    "        if id == fi.recipe_id:\n",
    "            print(fi.text)\n",
    "            print(fi.cooking_time)\n",
    "            print(fi.serving)\n",
    "            print()\n",
    "\n",
    "    for ig in ingredients:\n",
    "        if id == ig.recipe_id:\n",
    "            print(ig.ingredient_name)\n",
    "            print(ig.amount)\n",
    "            print()\n",
    "\n",
    "    for cs in cookSteps:\n",
    "        if id == cs.recipe_id:\n",
    "            print(cs.text)\n",
    "            print(cs.step_number)\n",
    "            print(cs.step_img)\n",
    "            print()\n",
    "\n",
    "    print(\"---------다음 레시피--------\")\n"
   ]
  },
  {
   "cell_type": "code",
   "execution_count": 17,
   "id": "1261e87b91a9565e",
   "metadata": {
    "ExecuteTime": {
     "end_time": "2024-05-07T10:59:45.120998Z",
     "start_time": "2024-05-07T10:59:45.116162Z"
    }
   },

   "outputs": [],
   "source": [
    "from sqlalchemy import create_engine\n",
    "from sqlalchemy.orm import sessionmaker\n",
    "from sqlalchemy.ext.declarative import declarative_base\n",
    "from sqlalchemy import Column, Integer, String\n",
    "\n",
    "# 데이터베이스 연결 설정\n",
    "db_name = \"tastyhub\"\n",
    "db_host = \"localhost\"\n",
    "db_username = \"root\"\n",
    "db_password = \"1234\"\n",
    "\n",
    "# SQLAlchemy 엔진 생성\n",
    "engine = create_engine(f\"mysql+pymysql://{db_username}:{db_password}@{db_host}/{db_name}\")\n",
    "\n",
    "# 세션 생성\n",
    "Session = sessionmaker(bind=engine)\n",
    "session = Session()\n",
    "\n"
   ]
  },
  {
   "cell_type": "code",
   "execution_count": 18,
   "id": "dc3b8a6ef64889f8",
   "metadata": {
    "ExecuteTime": {
     "end_time": "2024-05-07T10:59:49.480166Z",
     "start_time": "2024-05-07T10:59:49.290871Z"
    }
   },

   "outputs": [
    {
     "name": "stdout",
     "output_type": "stream",
     "text": [
      "start\n",
      "Red Lentil Soup with Chicken and Turnips\n",
      "Red Lentil Soup with Chicken and Turnips\n",
      "Asparagus and Pea Soup: Real Convenience Food\n",
      "Asparagus and Pea Soup: Real Convenience Food\n",
      "Garlicky Kale\n",
      "Garlicky Kale\n",
      "Slow Cooker Beef Stew\n",
      "Slow Cooker Beef Stew\n",
      "Red Kidney Bean Jambalaya\n",
      "Red Kidney Bean Jambalaya\n",
      "Cauliflower, Brown Rice, and Vegetable Fried Rice\n",
      "Cauliflower, Brown Rice, and Vegetable Fried Rice\n",
      "Quinoa and Chickpea Salad with Sun-Dried Tomatoes and Dried Cherries\n",
      "Quinoa and Chickpea Salad with Sun-Dried Tomatoes and Dried Cherries\n",
      "Easy Homemade Rice and Beans\n",
      "Easy Homemade Rice and Beans\n",
      "Tuscan White Bean Soup with Olive Oil and Rosemary\n",
      "Tuscan White Bean Soup with Olive Oil and Rosemary\n",
      "Crunchy Brussels Sprouts Side Dish\n",
      "Crunchy Brussels Sprouts Side Dish\n",
      "<class 'list'>\n",
      "0\n",
      "1\n",
      "0\n",
      "1\n",
      "1\n",
      "2\n",
      "1\n",
      "0\n",
      "2\n",
      "1\n",
      "2\n",
      "1\n",
      "2\n",
      "2\n",
      "0\n",
      "3\n",
      "1\n",
      "3\n",
      "2\n",
      "3\n",
      "2\n",
      "0\n",
      "4\n",
      "1\n",
      "4\n",
      "2\n",
      "4\n",
      "0\n",
      "5\n",
      "1\n",
      "5\n",
      "2\n",
      "5\n",
      "0\n",
      "6\n",
      "1\n",
      "6\n",
      "2\n",
      "6\n",
      "0\n",
      "7\n",
      "1\n",
      "7\n",
      "2\n",
      "7\n",
      "0\n",
      "8\n",
      "1\n",
      "8\n",
      "2\n",
      "8\n",
      "0\n",
      "9\n",
      "1\n",
      "9\n",
      "2\n",
      "9\n",
      "0\n",
      "10\n",
      "1\n",
      "10\n",
      "2\n",
      "10\n"
     ]
    },
    {
     "name": "stderr",
     "output_type": "stream",
     "text": [
      "/var/folders/q3/lprlv9td5096tj9v5dtxzw7h0000gn/T/ipykernel_40849/2577517727.py:1: MovedIn20Warning: The ``declarative_base()`` function is now available as sqlalchemy.orm.declarative_base(). (deprecated since: 2.0) (Background on SQLAlchemy 2.0 at: https://sqlalche.me/e/b8d9)\n",

      "  Base = declarative_base()\n"
     ]
    }
   ],
   "source": [
    "Base = declarative_base()\n",
    "try:\n",
    "    print(\"start\")\n",
    "    for rec in recipes:\n",
    "        trecipe = convert_to_trecipe(rec)\n",
    "        session.add(trecipe)\n",
    "        session.commit()\n",
    "    \n",
    "    recipe_objects = session.query(TRecipe).all()\n",
    "    print(type(recipe_objects))\n",
    "    \n",
    "    for ro in recipe_objects:\n",
    "        for fi in foodInformations:  # your_objects에는 객체들의 리스트가 들어가야 합니다.\n",
    "            print(fi.recipe_id)\n",
    "            print(ro.recipe_id)\n",
    "            if fi.recipe_id+1==ro.recipe_id:\n",
    "                tfoodinformation = convert_to_tfoodinformation(fi,ro)\n",
    "                print(tfoodinformation.recipe_id)\n",
    "                session.add(tfoodinformation)\n",
    "\n",
    "        for ing in ingredients:  # your_objects에는 객체들의 리스트가 들어가야 합니다.\n",
    "            if ing.recipe_id+1 == ro.recipe_id:\n",
    "                tingredient = convert_to_tingredient(ing,ro)\n",
    "                session.add(tingredient)\n",
    "\n",
    "        for cs in cookSteps:  # your_objects에는 객체들의 리스트가 들어가야 합니다.\n",
    "            if cs.recipe_id+1 == ro.recipe_id:\n",
    "                tcookstep = convert_to_tcookstep(cs,ro)\n",
    "                session.add(tcookstep)\n",
    "            \n",
    "    session.commit()\n",
    "\n",
    "\n",
    "\n",
    "except Exception as e:\n",
    "    session.rollback()\n",
    "    print(\"Error:\", e)\n",
    "\n",
    "# 세션 종료\n",
    "session.close()"
   ]
  },
  {
   "cell_type": "code",
   "execution_count": null,
   "id": "c18d023c",
   "metadata": {},
   "outputs": [],
   "source": []

  }
 ],
 "metadata": {
  "kernelspec": {
   "display_name": "Python 3 (ipykernel)",
   "language": "python",
   "name": "python3"
  },
  "language_info": {
   "codemirror_mode": {
    "name": "ipython",
    "version": 3
   },
   "file_extension": ".py",
   "mimetype": "text/x-python",
   "name": "python",
   "nbconvert_exporter": "python",
   "pygments_lexer": "ipython3",
   "version": "3.11.7"
  },
  "toc": {
   "base_numbering": 1,
   "nav_menu": {},
   "number_sections": true,
   "sideBar": true,
   "skip_h1_title": false,
   "title_cell": "Table of Contents",
   "title_sidebar": "Contents",
   "toc_cell": false,
   "toc_position": {},
   "toc_section_display": true,
   "toc_window_display": false
  }
 },
 "nbformat": 4,
 "nbformat_minor": 5
}
