{
 "cells": [
  {
   "cell_type": "code",
   "execution_count": 4,
   "id": "58902432e792cf62",
   "metadata": {
    "ExecuteTime": {
     "end_time": "2024-04-27T11:35:46.206429Z",
     "start_time": "2024-04-27T11:35:46.198168Z"
    }
   },
   "outputs": [
    {
     "data": {
      "text/plain": [
       "'\\n환경 : 쥬피터 노트북\\n0. https://pypi.org/project/googletrans/\\n번역 api - 각 단계 진행 시 해당 string 번역하여 값 반환\\n하이퍼링크 제거 메서드 생성\\n\\n1. 테이블 정의 - 레시피, 요리정보, 재료, 요리단계\\n\\n레시피 - Recipe\\n1. id - db 자동배정\\n2. foodName : title\\n3. foodImg : image\\n4. tempId : spoonacular api recipeId\\n\\n요리정보 - FoodInformation\\n1. id - db 자동 배정\\n2. text - summary\\n3. cookingTime - readyInMinutes\\n4. serving - serving\\n\\n재료 - Ingredients 항목에서 가져오기\\n1. id - db 자동배정\\n2. ingredientName : ingredientName\\n3. amount : amount\\n\\n요리 단계 - CookStep : analyzedInstruction 항목에서 가져오기\\n1. id - db 자동\\n2. stepNumber - number\\n3. text - step\\n4. stepImg - null로 통일\\n\\n2. docker - mysql\\ndocker volume 설정으로 레시피 및 db 저장 폴더 지정\\n파이썬 mysql 연결 flask x\\n\\n3. 레시피 아이디 들고와서 레시피 객체 생성 후 db 저장\\n4. 레시피 아이디를 리스트로 받아오기\\n5. 받아온 아이디를 기반으로 단일 레시피 get 요청 진행\\n    5-1. 요리 정보 : 데이터 분리, body에서 summary 추출,이미지 링크 삭제, 그리고 매핑 및 객체 생성,\\n    5-2. 재료 : 테이블과 각 값 매핑해서 객체 생성,\\n    5-3. 요리 단계 : 테이블과 각 값 매핑해서 객체 생성\\n    각 순서마다 db에 상황마다 바로 전송\\n\\n'"
      ]
     },
     "execution_count": 4,
     "metadata": {},
     "output_type": "execute_result"
    }
   ],
   "source": [
    "'''\n",
    "환경 : 쥬피터 노트북\n",
    "0. https://pypi.org/project/googletrans/\n",
    "번역 api - 각 단계 진행 시 해당 string 번역하여 값 반환\n",
    "하이퍼링크 제거 메서드 생성\n",
    "\n",
    "1. 테이블 정의 - 레시피, 요리정보, 재료, 요리단계\n",
    "\n",
    "레시피 - Recipe\n",
    "1. id - db 자동배정\n",
    "2. foodName : title\n",
    "3. foodImg : image\n",
    "4. tempId : spoonacular api recipeId\n",
    "\n",
    "요리정보 - FoodInformation\n",
    "1. id - db 자동 배정\n",
    "2. text - summary\n",
    "3. cookingTime - readyInMinutes\n",
    "4. serving - serving\n",
    "\n",
    "재료 - Ingredients 항목에서 가져오기\n",
    "1. id - db 자동배정\n",
    "2. ingredientName : ingredientName\n",
    "3. amount : amount\n",
    "\n",
    "요리 단계 - CookStep : analyzedInstruction 항목에서 가져오기\n",
    "1. id - db 자동\n",
    "2. stepNumber - number\n",
    "3. text - step\n",
    "4. stepImg - null로 통일\n",
    "\n",
    "2. docker - mysql\n",
    "docker volume 설정으로 레시피 및 db 저장 폴더 지정\n",
    "파이썬 mysql 연결 flask x\n",
    "\n",
    "3. 레시피 아이디 들고와서 레시피 객체 생성 후 db 저장\n",
    "4. 레시피 아이디를 리스트로 받아오기\n",
    "5. 받아온 아이디를 기반으로 단일 레시피 get 요청 진행\n",
    "    5-1. 요리 정보 : 데이터 분리, body에서 summary 추출,이미지 링크 삭제, 그리고 매핑 및 객체 생성,\n",
    "    5-2. 재료 : 테이블과 각 값 매핑해서 객체 생성,\n",
    "    5-3. 요리 단계 : 테이블과 각 값 매핑해서 객체 생성\n",
    "    각 순서마다 db에 상황마다 바로 전송\n",
    "    \n",
    "API key : 03351b92426b464499f9b05790d6894b\n",
    "'''"
   ]
  },
  {
   "cell_type": "code",
   "execution_count": 7,
   "id": "f1dfad9957531d47",
   "metadata": {
    "ExecuteTime": {
     "end_time": "2024-04-27T11:38:36.030215Z",
     "start_time": "2024-04-27T11:38:33.352999Z"
    }
   },
   "outputs": [
    {
     "name": "stdout",
     "output_type": "stream",
     "text": [
      "Requirement already satisfied: PyMySQL in /Users/skyriv213/anaconda3/lib/python3.11/site-packages (1.1.0)\r\n"
     ]
    }
   ],
   "source": [
    "! pip install PyMySQL"
   ]
  },
  {
   "cell_type": "code",
   "execution_count": 8,
   "id": "e3a9b6e6d09f05b9",
   "metadata": {
    "ExecuteTime": {
     "end_time": "2024-04-27T11:38:50.695901Z",
     "start_time": "2024-04-27T11:38:47.901152Z"
    }
   },
   "outputs": [
    {
     "name": "stdout",
     "output_type": "stream",
     "text": [
      "Requirement already satisfied: ipython-sql in /Users/skyriv213/anaconda3/lib/python3.11/site-packages (0.5.0)\r\n",
      "Requirement already satisfied: prettytable in /Users/skyriv213/anaconda3/lib/python3.11/site-packages (from ipython-sql) (3.10.0)\r\n",
      "Requirement already satisfied: ipython in /Users/skyriv213/anaconda3/lib/python3.11/site-packages (from ipython-sql) (8.20.0)\r\n",
      "Requirement already satisfied: sqlalchemy>=2.0 in /Users/skyriv213/anaconda3/lib/python3.11/site-packages (from ipython-sql) (2.0.25)\r\n",
      "Requirement already satisfied: sqlparse in /Users/skyriv213/anaconda3/lib/python3.11/site-packages (from ipython-sql) (0.5.0)\r\n",
      "Requirement already satisfied: six in /Users/skyriv213/anaconda3/lib/python3.11/site-packages (from ipython-sql) (1.16.0)\r\n",
      "Requirement already satisfied: ipython-genutils in /Users/skyriv213/anaconda3/lib/python3.11/site-packages (from ipython-sql) (0.2.0)\r\n",
      "Requirement already satisfied: typing-extensions>=4.6.0 in /Users/skyriv213/anaconda3/lib/python3.11/site-packages (from sqlalchemy>=2.0->ipython-sql) (4.9.0)\r\n",
      "Requirement already satisfied: decorator in /Users/skyriv213/anaconda3/lib/python3.11/site-packages (from ipython->ipython-sql) (5.1.1)\r\n",
      "Requirement already satisfied: jedi>=0.16 in /Users/skyriv213/anaconda3/lib/python3.11/site-packages (from ipython->ipython-sql) (0.18.1)\r\n",
      "Requirement already satisfied: matplotlib-inline in /Users/skyriv213/anaconda3/lib/python3.11/site-packages (from ipython->ipython-sql) (0.1.6)\r\n",
      "Requirement already satisfied: prompt-toolkit<3.1.0,>=3.0.41 in /Users/skyriv213/anaconda3/lib/python3.11/site-packages (from ipython->ipython-sql) (3.0.43)\r\n",
      "Requirement already satisfied: pygments>=2.4.0 in /Users/skyriv213/anaconda3/lib/python3.11/site-packages (from ipython->ipython-sql) (2.15.1)\r\n",
      "Requirement already satisfied: stack-data in /Users/skyriv213/anaconda3/lib/python3.11/site-packages (from ipython->ipython-sql) (0.2.0)\r\n",
      "Requirement already satisfied: traitlets>=5 in /Users/skyriv213/anaconda3/lib/python3.11/site-packages (from ipython->ipython-sql) (5.7.1)\r\n",
      "Requirement already satisfied: pexpect>4.3 in /Users/skyriv213/anaconda3/lib/python3.11/site-packages (from ipython->ipython-sql) (4.8.0)\r\n",
      "Requirement already satisfied: wcwidth in /Users/skyriv213/anaconda3/lib/python3.11/site-packages (from prettytable->ipython-sql) (0.2.5)\r\n",
      "Requirement already satisfied: parso<0.9.0,>=0.8.0 in /Users/skyriv213/anaconda3/lib/python3.11/site-packages (from jedi>=0.16->ipython->ipython-sql) (0.8.3)\r\n",
      "Requirement already satisfied: ptyprocess>=0.5 in /Users/skyriv213/anaconda3/lib/python3.11/site-packages (from pexpect>4.3->ipython->ipython-sql) (0.7.0)\r\n",
      "Requirement already satisfied: executing in /Users/skyriv213/anaconda3/lib/python3.11/site-packages (from stack-data->ipython->ipython-sql) (0.8.3)\r\n",
      "Requirement already satisfied: asttokens in /Users/skyriv213/anaconda3/lib/python3.11/site-packages (from stack-data->ipython->ipython-sql) (2.0.5)\r\n",
      "Requirement already satisfied: pure-eval in /Users/skyriv213/anaconda3/lib/python3.11/site-packages (from stack-data->ipython->ipython-sql) (0.2.2)\r\n"
     ]
    }
   ],
   "source": [
    "! pip install ipython-sql"
   ]
  },
  {
   "cell_type": "code",
   "execution_count": 10,
   "id": "cc21f66f08682a09",
   "metadata": {
    "ExecuteTime": {
     "end_time": "2024-04-27T11:42:59.164830Z",
     "start_time": "2024-04-27T11:42:44.229700Z"
    }
   },
   "outputs": [
    {
     "name": "stdout",
     "output_type": "stream",
     "text": [
      "Collecting mysqlclient\r\n",
      "  Using cached mysqlclient-2.2.4.tar.gz (90 kB)\r\n",
      "  Installing build dependencies ... \u001b[?25ldone\r\n",
      "\u001b[?25h  Getting requirements to build wheel ... \u001b[?25ldone\r\n",
      "\u001b[?25h  Installing backend dependencies ... \u001b[?25ldone\r\n",
      "\u001b[?25h  Preparing metadata (pyproject.toml) ... \u001b[?25ldone\r\n",
      "\u001b[?25hBuilding wheels for collected packages: mysqlclient\r\n",
      "  Building wheel for mysqlclient (pyproject.toml) ... \u001b[?25ldone\r\n",
      "\u001b[?25h  Created wheel for mysqlclient: filename=mysqlclient-2.2.4-cp311-cp311-macosx_11_0_arm64.whl size=73835 sha256=1c12bd52b957911a5bc077633191aa3b793b3d77c990abe7c270d193cb08ddfc\r\n",
      "  Stored in directory: /Users/skyriv213/Library/Caches/pip/wheels/1e/2f/4c/0bd8be7e2f3255f9436ce68bb1c2563661e8b7bbd49dcff0e0\r\n",
      "Successfully built mysqlclient\r\n",
      "Installing collected packages: mysqlclient\r\n",
      "Successfully installed mysqlclient-2.2.4\r\n"
     ]
    }
   ],
   "source": [
    "! pip install mysqlclient\n",
    "\n"
   ]
  },
  {
   "cell_type": "code",
   "execution_count": 15,
   "id": "d5cda028a10c5ed3",
   "metadata": {
    "ExecuteTime": {
     "end_time": "2024-04-27T11:47:42.151683Z",
     "start_time": "2024-04-27T11:47:39.103123Z"
    }
   },
   "outputs": [],
   "source": [
    "import pymysql\n",
    "import pandas as pd\n"
   ]
  },
  {
   "cell_type": "code",
   "execution_count": 18,
   "id": "e05d3f58755a9d7c",
   "metadata": {
    "ExecuteTime": {
     "end_time": "2024-04-27T11:49:26.296079Z",
     "start_time": "2024-04-27T11:49:26.249162Z"
    }
   },
   "outputs": [
    {
     "name": "stdout",
     "output_type": "stream",
     "text": [
      "connection successful\n",
      "   user_id              email    nickname  \\\n",
      "0        1  email01@naver.com    jdklasjf   \n",
      "1        2    email@naver.com  nickname12   \n",
      "2        3    email@naver.com  nickname12   \n",
      "\n",
      "                                            password user_img user_type  \\\n",
      "0  $2a$10$KU42qnM00ClwMi0vLBulBOXuWChA89/PTSuOm.l...   refact    COMMON   \n",
      "1  $2a$10$XiJ9Um4w/Xzj.LG9BIKT7eDfaFh2YrY6h75HYPV...   refact    COMMON   \n",
      "2  $2a$10$jZPzWzhx2mwss0uC39urLecTFY8OUpSrsKEa5ZG...   refact    COMMON   \n",
      "\n",
      "  username village_id  \n",
      "0   ip0147       None  \n",
      "1   ip0147       None  \n",
      "2  iip0147       None  \n"
     ]
    },
    {
     "name": "stderr",
     "output_type": "stream",
     "text": [
      "/var/folders/nl/lh67k7092vz4lqpj7n6byswc0000gn/T/ipykernel_56639/4142951796.py:22: UserWarning: pandas only supports SQLAlchemy connectable (engine/connection) or database string URI or sqlite3 DBAPI2 connection. Other DBAPI2 objects are not tested. Please consider using SQLAlchemy.\n",
      "  query = pd.read_sql_query(\"select * from users\", conn)\n"
     ]
    }
   ],
   "source": [
    "db_name = \"tastyhub\"\n",
    "db_host = \"localhost\"\n",
    "db_username = \"root\"\n",
    "db_password = \"1234\"\n",
    "\n",
    "try:\n",
    "    conn = pymysql.connect(host = db_host,\n",
    "                           port = int(3306),\n",
    "                           user = \"root\",\n",
    "                           password = db_password,\n",
    "                           db = db_name)\n",
    "except :\n",
    "    print(\"error\")\n",
    "# except e:\n",
    "#     print (e)\n",
    "    \n",
    "if conn:\n",
    "    print (\"connection successful\")\n",
    "else:\n",
    "    print (\"error\")\n",
    "\n",
    "query = pd.read_sql_query(\"select * from users\", conn)\n",
    "print(query)"
   ]
  },
  {
   "cell_type": "code",
   "execution_count": null,
   "id": "e31ffa12f6b75364",
   "metadata": {},
   "outputs": [],
   "source": [
    "class Recipe:\n",
    "    def __init__(self, food_name, food_img, temp_id):\n",
    "        self.id = None  # DB에서 자동으로 할당됨\n",
    "        self.food_name = food_name\n",
    "        self.food_img = food_img\n",
    "        self.temp_id = temp_id\n",
    "\n",
    "class FoodInformation:\n",
    "    def __init__(self, recipe_id, text, cooking_time, serving):\n",
    "        self.id = None  # DB에서 자동으로 할당됨\n",
    "        self.recipe_id = recipe_id\n",
    "        self.text = text\n",
    "        self.cooking_time = cooking_time\n",
    "        self.serving = serving\n",
    "\n",
    "class Ingredient:\n",
    "    def __init__(self, recipe_id, ingredient_name, amount):\n",
    "        self.id = None  # DB에서 자동으로 할당됨\n",
    "        self.recipe_id = recipe_id\n",
    "        self.ingredient_name = ingredient_name\n",
    "        self.amount = amount\n",
    "\n",
    "class CookStep:\n",
    "    def __init__(self, recipe_id, step_number, text, step_img=None):\n",
    "        self.id = None  # DB에서 자동으로 할당됨\n",
    "        self.recipe_id = recipe_id\n",
    "        self.step_number = step_number\n",
    "        self.text = text\n",
    "        self.step_img = step_img\n"
   ]
  },
  {
   "cell_type": "code",
   "execution_count": 36,
   "id": "168acf1e688e7acd",
   "metadata": {
    "ExecuteTime": {
     "end_time": "2024-04-27T12:00:27.049909Z",
     "start_time": "2024-04-27T12:00:25.934459Z"
    }
   },
   "outputs": [],
   "source": [
    "import requests\n",
    "\n",
    "url = 'https://api.spoonacular.com/recipes/complexSearch?number=5216&apiKey=03351b92426b464499f9b05790d6894b'\n",
    "response = requests.get(url)"
   ]
  },
  {
   "cell_type": "code",
   "execution_count": 33,
   "id": "ac8cc06cccf75c5f",
   "metadata": {
    "ExecuteTime": {
     "end_time": "2024-04-27T11:59:59.534399Z",
     "start_time": "2024-04-27T11:59:59.528230Z"
    }
   },
   "outputs": [
    {
     "name": "stdout",
     "output_type": "stream",
     "text": [
      "{\"results\":[{\"id\":715415,\"title\":\"Red Lentil Soup with Chicken and Turnips\",\"image\":\"https://img.spoonacular.com/recipes/715415-312x231.jpg\",\"imageType\":\"jpg\"},{\"id\":716406,\"title\":\"Asparagus and Pea Soup: Real Convenience Food\",\"image\":\"https://img.spoonacular.com/recipes/716406-312x231.jpg\",\"imageType\":\"jpg\"},{\"id\":644387,\"title\":\"Garlicky Kale\",\"image\":\"https://img.spoonacular.com/recipes/644387-312x231.jpg\",\"imageType\":\"jpg\"},{\"id\":715446,\"title\":\"Slow Cooker Beef Stew\",\"image\":\"https://img.spoonacular.com/recipes/715446-312x231.jpg\",\"imageType\":\"jpg\"},{\"id\":782601,\"title\":\"Red Kidney Bean Jambalaya\",\"image\":\"https://img.spoonacular.com/recipes/782601-312x231.jpg\",\"imageType\":\"jpg\"},{\"id\":716426,\"title\":\"Cauliflower, Brown Rice, and Vegetable Fried Rice\",\"image\":\"https://img.spoonacular.com/recipes/716426-312x231.jpg\",\"imageType\":\"jpg\"},{\"id\":716004,\"title\":\"Quinoa and Chickpea Salad with Sun-Dried Tomatoes and Dried Cherries\",\"image\":\"https://img.spoonacular.com/recipes/716004-312x231.jpg\",\"imageType\":\"jpg\"},{\"id\":716627,\"title\":\"Easy Homemade Rice and Beans\",\"image\":\"https://img.spoonacular.com/recipes/716627-312x231.jpg\",\"imageType\":\"jpg\"},{\"id\":664147,\"title\":\"Tuscan White Bean Soup with Olive Oil and Rosemary\",\"image\":\"https://img.spoonacular.com/recipes/664147-312x231.jpg\",\"imageType\":\"jpg\"},{\"id\":640941,\"title\":\"Crunchy Brussels Sprouts Side Dish\",\"image\":\"https://img.spoonacular.com/recipes/640941-312x231.jpg\",\"imageType\":\"jpg\"},{\"id\":715495,\"title\":\"Turkey Tomato Cheese Pizza\",\"image\":\"https://img.spoonacular.com/recipes/715495-312x231.jpg\",\"imageType\":\"jpg\"},{\"id\":716381,\"title\":\"Nigerian Snail Stew\",\"image\":\"https://img.spoonacular.com/recipes/716381-312x231.jpg\",\"imageType\":\"jpg\"},{\"id\":660306,\"title\":\"Slow Cooker: Pork and Garbanzo Beans\",\"image\":\"https://img.spoonacular.com/recipes/660306-312x231.jpg\",\"imageType\":\"jpg\"},{\"id\":756814,\"title\":\"Powerhouse Almond Matcha Superfood Smoothie\",\"image\":\"https://img.spoonacular.com/recipes/756814-312x231.jpg\",\"imageType\":\"jpg\"},{\"id\":715769,\"title\":\"Broccolini Quinoa Pilaf\",\"image\":\"https://img.spoonacular.com/recipes/715769-312x231.jpg\",\"imageType\":\"jpg\"},{\"id\":642129,\"title\":\"Easy To Make Spring Rolls\",\"image\":\"https://img.spoonacular.com/recipes/642129-312x231.jpg\",\"imageType\":\"jpg\"},{\"id\":642605,\"title\":\"Farro With Mushrooms and Asparagus\",\"image\":\"https://img.spoonacular.com/recipes/642605-312x231.jpg\",\"imageType\":\"jpg\"},{\"id\":636589,\"title\":\"Butternut Squash Frittata\",\"image\":\"https://img.spoonacular.com/recipes/636589-312x231.jpg\",\"imageType\":\"jpg\"},{\"id\":646738,\"title\":\"Herbivoracious' White Bean and Kale Soup\",\"image\":\"https://img.spoonacular.com/recipes/646738-312x231.jpg\",\"imageType\":\"jpg\"},{\"id\":663559,\"title\":\"Tomato and lentil soup\",\"image\":\"https://img.spoonacular.com/recipes/663559-312x231.jpg\",\"imageType\":\"jpg\"},{\"id\":662670,\"title\":\"Swiss Chard Wraps\",\"image\":\"https://img.spoonacular.com/recipes/662670-312x231.jpg\",\"imageType\":\"jpg\"},{\"id\":640062,\"title\":\"Corn Avocado Salsa\",\"image\":\"https://img.spoonacular.com/recipes/640062-312x231.jpg\",\"imageType\":\"jpg\"},{\"id\":715421,\"title\":\"Cheesy Chicken Enchilada Quinoa Casserole\",\"image\":\"https://img.spoonacular.com/recipes/715421-312x231.jpg\",\"imageType\":\"jpg\"},{\"id\":715957,\"title\":\"Zesty Green Pea and Jalapeño Pesto Pasta\",\"image\":\"https://img.spoonacular.com/recipes/715957-312x231.jpg\",\"imageType\":\"jpg\"},{\"id\":648320,\"title\":\"Jade Buddha Salmon Tartare\",\"image\":\"https://img.spoonacular.com/recipes/648320-312x231.jpg\",\"imageType\":\"jpg\"},{\"id\":716432,\"title\":\"Finger Foods: Frittata Muffins\",\"image\":\"https://img.spoonacular.com/recipes/716432-312x231.jpg\",\"imageType\":\"jpg\"},{\"id\":798400,\"title\":\"Spicy Black-Eyed Pea Curry with Swiss Chard and Roasted Eggplant\",\"image\":\"https://img.spoonacular.com/recipes/798400-312x231.jpg\",\"imageType\":\"jpg\"},{\"id\":652417,\"title\":\"Moroccan chickpea and lentil stew\",\"image\":\"https://img.spoonacular.com/recipes/652417-312x231.jpg\",\"imageType\":\"jpg\"},{\"id\":639535,\"title\":\"Citrusy Pecan Garbanzo Couscous: A Salad For Cold Weather\",\"image\":\"https://img.spoonacular.com/recipes/639535-312x231.jpg\",\"imageType\":\"jpg\"},{\"id\":661925,\"title\":\"Strawberry-Mango Quinoa Salad\",\"image\":\"https://img.spoonacular.com/recipes/661925-312x231.jpg\",\"imageType\":\"jpg\"},{\"id\":649931,\"title\":\"Lentil Salad With Vegetables\",\"image\":\"https://img.spoonacular.com/recipes/649931-312x231.jpg\",\"imageType\":\"jpg\"},{\"id\":636787,\"title\":\"Caldo Verde - Portuguese Kale Soup\",\"image\":\"https://img.spoonacular.com/recipes/636787-312x231.jpg\",\"imageType\":\"jpg\"},{\"id\":641975,\"title\":\"Easy Ginger Beef Broccoli\",\"image\":\"https://img.spoonacular.com/recipes/641975-312x231.jpg\",\"imageType\":\"jpg\"},{\"id\":652423,\"title\":\"Moroccan Couscous and Chickpea Salad\",\"image\":\"https://img.spoonacular.com/recipes/652423-312x231.jpg\",\"imageType\":\"jpg\"},{\"id\":715447,\"title\":\"Easy Vegetable Beef Soup\",\"image\":\"https://img.spoonacular.com/recipes/715447-312x231.jpg\",\"imageType\":\"jpg\"},{\"id\":716311,\"title\":\"Mango Fried Rice\",\"image\":\"https://img.spoonacular.com/recipes/716311-312x231.jpg\",\"imageType\":\"jpg\"},{\"id\":715543,\"title\":\"Homemade Guacamole\",\"image\":\"https://img.spoonacular.com/recipes/715543-312x231.jpg\",\"imageType\":\"jpg\"},{\"id\":157344,\"title\":\"Spicy Salad with Kidney Beans, Cheddar, and Nuts\",\"image\":\"https://img.spoonacular.com/recipes/157344-312x231.jpg\",\"imageType\":\"jpg\"},{\"id\":658509,\"title\":\"Roasted Broccoli with Lemon and Garlic\",\"image\":\"https://img.spoonacular.com/recipes/658509-312x231.jpg\",\"imageType\":\"jpg\"},{\"id\":716195,\"title\":\"Spicy Indian-Style Hummus\",\"image\":\"https://img.spoonacular.com/recipes/716195-312x231.jpg\",\"imageType\":\"jpg\"},{\"id\":716361,\"title\":\"Stir Fried Quinoa, Brown Rice and Chicken Breast\",\"image\":\"https://img.spoonacular.com/recipes/716361-312x231.jpg\",\"imageType\":\"jpg\"},{\"id\":765011,\"title\":\"Snap Pea and Green Bean Salad with Arugula Pesto\",\"image\":\"https://img.spoonacular.com/recipes/765011-312x231.jpg\",\"imageType\":\"jpg\"},{\"id\":660228,\"title\":\"Skinny Kale Basil Pesto\",\"image\":\"https://img.spoonacular.com/recipes/660228-312x231.jpg\",\"imageType\":\"jpg\"},{\"id\":716408,\"title\":\"Greek-Style Baked Fish: Fresh, Simple, and Delicious\",\"image\":\"https://img.spoonacular.com/recipes/716408-312x231.jpg\",\"imageType\":\"jpg\"},{\"id\":661340,\"title\":\"Spinach Salad with Strawberry Vinaigrette\",\"image\":\"https://img.spoonacular.com/recipes/661340-312x231.jpg\",\"imageType\":\"jpg\"},{\"id\":659135,\"title\":\"Salmon with roasted vegetables\",\"image\":\"https://img.spoonacular.com/recipes/659135-312x231.jpg\",\"imageType\":\"jpg\"},{\"id\":639851,\"title\":\"Cod with Tomato-Olive-Chorizo Sauce and Mashed Potatoes\",\"image\":\"https://img.spoonacular.com/recipes/639851-312x231.jpg\",\"imageType\":\"jpg\"},{\"id\":664547,\"title\":\"Vegetable Dip\",\"image\":\"https://img.spoonacular.com/recipes/664547-312x231.jpg\",\"imageType\":\"jpg\"},{\"id\":633921,\"title\":\"Balsamic & Honey Glazed Salmon with Lemony Asparagus\",\"image\":\"https://img.spoonacular.com/recipes/633921-312x231.jpg\",\"imageType\":\"jpg\"},{\"id\":658579,\"title\":\"Roasted Endive Salad With Prosciutto, Figs and Pistachios\",\"image\":\"https://img.spoonacular.com/recipes/658579-312x231.jpg\",\"imageType\":\"jpg\"},{\"id\":641057,\"title\":\"Curried Butternut Squash and Apple Soup\",\"image\":\"https://img.spoonacular.com/recipes/641057-312x231.jpg\",\"imageType\":\"jpg\"},{\"id\":655575,\"title\":\"Penne Pasta with Broccoli and Cheese\",\"image\":\"https://img.spoonacular.com/recipes/655575-312x231.jpg\",\"imageType\":\"jpg\"},{\"id\":632269,\"title\":\"Amaranth and Roast Veggie Salad\",\"image\":\"https://img.spoonacular.com/recipes/632269-312x231.jpg\",\"imageType\":\"jpg\"},{\"id\":637162,\"title\":\"Carrot and Cabbage Salad With Coriander+cumin Dry Rub\",\"image\":\"https://img.spoonacular.com/recipes/637162-312x231.jpg\",\"imageType\":\"jpg\"},{\"id\":982371,\"title\":\"Instant Pot Quinoa Grain Bowl\",\"image\":\"https://img.spoonacular.com/recipes/982371-312x231.jpg\",\"imageType\":\"jpg\"},{\"id\":1095753,\"title\":\"Roasted Cauliflower Detox Bowl with Tahini Sauce\",\"image\":\"https://img.spoonacular.com/recipes/1095753-312x231.jpg\",\"imageType\":\"jpg\"},{\"id\":660405,\"title\":\"Smoky Black Bean Soup With Sweet Potato & Kale\",\"image\":\"https://img.spoonacular.com/recipes/660405-312x231.jpg\",\"imageType\":\"jpg\"},{\"id\":715523,\"title\":\"Chorizo and Beef Quinoa Stuffed Pepper\",\"image\":\"https://img.spoonacular.com/recipes/715523-312x231.jpg\",\"imageType\":\"jpg\"},{\"id\":632252,\"title\":\"Alouette® Stuffed Mushroom Caps\",\"image\":\"https://img.spoonacular.com/recipes/632252-312x231.jpg\",\"imageType\":\"jpg\"},{\"id\":639891,\"title\":\"Coffee-braised Short Ribs\",\"image\":\"https://img.spoonacular.com/recipes/639891-312x231.jpg\",\"imageType\":\"jpg\"},{\"id\":646651,\"title\":\"Herb chicken with sweet potato mash and sautéed broccoli\",\"image\":\"https://img.spoonacular.com/recipes/646651-312x231.jpg\",\"imageType\":\"jpg\"},{\"id\":716330,\"title\":\"Chicken and Mango Skewer\",\"image\":\"https://img.spoonacular.com/recipes/716330-312x231.jpg\",\"imageType\":\"jpg\"},{\"id\":640318,\"title\":\"Crab Salad Stuffed Pita Pockets\",\"image\":\"https://img.spoonacular.com/recipes/640318-312x231.jpg\",\"imageType\":\"jpg\"},{\"id\":642085,\"title\":\"Easy Roasted Vegetables\",\"image\":\"https://img.spoonacular.com/recipes/642085-312x231.jpg\",\"imageType\":\"jpg\"},{\"id\":716437,\"title\":\"Chilled Cucumber Avocado Soup with Yogurt and Kefir\",\"image\":\"https://img.spoonacular.com/recipes/716437-312x231.jpg\",\"imageType\":\"jpg\"},{\"id\":664090,\"title\":\"Turkish Chicken Salad with Home-made Cacik Yogurt Sauce\",\"image\":\"https://img.spoonacular.com/recipes/664090-312x231.jpg\",\"imageType\":\"jpg\"},{\"id\":636602,\"title\":\"Butternut Squash Soup (In Half An Hour!)\",\"image\":\"https://img.spoonacular.com/recipes/636602-312x231.jpg\",\"imageType\":\"jpg\"},{\"id\":716276,\"title\":\"Doughnuts\",\"image\":\"https://img.spoonacular.com/recipes/716276-312x231.jpg\",\"imageType\":\"jpg\"},{\"id\":1044252,\"title\":\"Shredded Roast Beef Stuffed Sweet Potatoes (Whole 30 & PALEO)\",\"image\":\"https://img.spoonacular.com/recipes/1044252-312x231.jpg\",\"imageType\":\"jpg\"},{\"id\":649944,\"title\":\"Lentil Mango Salad\",\"image\":\"https://img.spoonacular.com/recipes/649944-312x231.jpg\",\"imageType\":\"jpg\"},{\"id\":646043,\"title\":\"Gujarati Dry Mung Bean Curry\",\"image\":\"https://img.spoonacular.com/recipes/646043-312x231.jpg\",\"imageType\":\"jpg\"},{\"id\":634437,\"title\":\"Basil Tagliatelle with Roasted Red Bell Pepper Salad\",\"image\":\"https://img.spoonacular.com/recipes/634437-312x231.jpg\",\"imageType\":\"jpg\"},{\"id\":655235,\"title\":\"Peanut Butter and Jelly Smoothie\",\"image\":\"https://img.spoonacular.com/recipes/655235-312x231.jpg\",\"imageType\":\"jpg\"},{\"id\":652393,\"title\":\"Moosewood Lentil Soup\",\"image\":\"https://img.spoonacular.com/recipes/652393-312x231.jpg\",\"imageType\":\"jpg\"},{\"id\":640828,\"title\":\"Crispy Panko and Herb Crusted Salmon\",\"image\":\"https://img.spoonacular.com/recipes/640828-312x231.jpg\",\"imageType\":\"jpg\"},{\"id\":639411,\"title\":\"Cilantro Lime Halibut\",\"image\":\"https://img.spoonacular.com/recipes/639411-312x231.jpg\",\"imageType\":\"jpg\"},{\"id\":636228,\"title\":\"Broccoli Tartar\",\"image\":\"https://img.spoonacular.com/recipes/636228-312x231.jpg\",\"imageType\":\"jpg\"},{\"id\":661259,\"title\":\"Spinach and Gorgonzola Stuffed Flank Steak\",\"image\":\"https://img.spoonacular.com/recipes/661259-312x231.jpg\",\"imageType\":\"jpg\"},{\"id\":664680,\"title\":\"Vegetarian Mushroom Shepherd's Pie\",\"image\":\"https://img.spoonacular.com/recipes/664680-312x231.jpg\",\"imageType\":\"jpg\"},{\"id\":715391,\"title\":\"Slow Cooker Chicken Taco Soup\",\"image\":\"https://img.spoonacular.com/recipes/715391-312x231.jpg\",\"imageType\":\"jpg\"},{\"id\":636230,\"title\":\"Broccoli with cheese soup\",\"image\":\"https://img.spoonacular.com/recipes/636230-312x231.jpg\",\"imageType\":\"jpg\"},{\"id\":632812,\"title\":\"Asian Chicken and Broccoli With Chili Garlic Sauce\",\"image\":\"https://img.spoonacular.com/recipes/632812-312x231.jpg\",\"imageType\":\"jpg\"},{\"id\":633942,\"title\":\"Balsamic Roasted Vegetables\",\"image\":\"https://img.spoonacular.com/recipes/633942-312x231.jpg\",\"imageType\":\"jpg\"},{\"id\":632347,\"title\":\"Ancient Grains Bread\",\"image\":\"https://img.spoonacular.com/recipes/632347-312x231.jpg\",\"imageType\":\"jpg\"},{\"id\":1132339,\"title\":\"Garlic Lemon Chili Broccoli\",\"image\":\"https://img.spoonacular.com/recipes/1132339-312x231.jpg\",\"imageType\":\"jpg\"},{\"id\":649886,\"title\":\"Lemony Greek Lentil Soup\",\"image\":\"https://img.spoonacular.com/recipes/649886-312x231.jpg\",\"imageType\":\"jpg\"},{\"id\":659927,\"title\":\"Shrimp and Avocado Salad\",\"image\":\"https://img.spoonacular.com/recipes/659927-312x231.jpg\",\"imageType\":\"jpg\"},{\"id\":716217,\"title\":\"Vietnamese Pancakes with Vegetables, Herbs and a Fragrant Dipping Sauce (Bánh Xèo)\",\"image\":\"https://img.spoonacular.com/recipes/716217-312x231.jpg\",\"imageType\":\"jpg\"},{\"id\":636608,\"title\":\"Butternut Squash, Arugula and Goat Cheese Quinoa\",\"image\":\"https://img.spoonacular.com/recipes/636608-312x231.jpg\",\"imageType\":\"jpg\"},{\"id\":715538,\"title\":\"What to make for dinner tonight?? Bruschetta Style Pork & Pasta\",\"image\":\"https://img.spoonacular.com/recipes/715538-312x231.jpg\",\"imageType\":\"jpg\"},{\"id\":659109,\"title\":\"Salmon Quinoa Risotto\",\"image\":\"https://img.spoonacular.com/recipes/659109-312x231.jpg\",\"imageType\":\"jpg\"},{\"id\":644826,\"title\":\"Gluten Free Dairy Free Sugar Free Chinese Chicken Salad\",\"image\":\"https://img.spoonacular.com/recipes/644826-312x231.jpg\",\"imageType\":\"jpg\"},{\"id\":649411,\"title\":\"Lebanese Tabouleh\",\"image\":\"https://img.spoonacular.com/recipes/649411-312x231.jpg\",\"imageType\":\"jpg\"},{\"id\":1000566,\"title\":\"Easy Instant Pot Beef Tips and Rice\",\"image\":\"https://img.spoonacular.com/recipes/1000566-312x231.jpg\",\"imageType\":\"jpg\"},{\"id\":664786,\"title\":\"Venison Stew\",\"image\":\"https://img.spoonacular.com/recipes/664786-312x231.jpg\",\"imageType\":\"jpg\"},{\"id\":647634,\"title\":\"Hummus with roasted orange peppers\",\"image\":\"https://img.spoonacular.com/recipes/647634-312x231.jpg\",\"imageType\":\"jpg\"},{\"id\":657719,\"title\":\"Radish & Snap Pea Quinoa Salad\",\"image\":\"https://img.spoonacular.com/recipes/657719-312x231.jpg\",\"imageType\":\"jpg\"},{\"id\":659143,\"title\":\"Salmon, Watercress, Fennel and Baby Beetroot Salad With Lemony \\\"Caviar\\\" Dressing\",\"image\":\"https://img.spoonacular.com/recipes/659143-312x231.jpg\",\"imageType\":\"jpg\"},{\"id\":645978,\"title\":\"Ground Turkey Stuffed Peppers\",\"image\":\"https://img.spoonacular.com/recipes/645978-312x231.jpg\",\"imageType\":\"jpg\"},{\"id\":715544,\"title\":\"Brown Butter Twice Baked Sweet Potatoes\",\"image\":\"https://img.spoonacular.com/recipes/715544-312x231.jpg\",\"imageType\":\"jpg\"}],\"offset\":0,\"number\":100,\"totalResults\":5137}\n"
     ]
    }
   ],
   "source": [
    "print(response.text)"
   ]
  },
  {
   "cell_type": "code",
   "execution_count": 24,
   "id": "e9d903801480958a",
   "metadata": {
    "ExecuteTime": {
     "end_time": "2024-04-27T11:58:28.661100Z",
     "start_time": "2024-04-27T11:58:28.629399Z"
    }
   },
   "outputs": [],
   "source": []
  },
  {
   "cell_type": "code",
   "execution_count": 24,
   "id": "f7c4659fd7427a6f",
   "metadata": {
    "ExecuteTime": {
     "end_time": "2024-04-27T11:58:29.357154Z",
     "start_time": "2024-04-27T11:58:29.330666Z"
    }
   },
   "outputs": [],
   "source": []
  },
  {
   "cell_type": "code",
   "execution_count": null,
   "id": "e10e1855d8ff9eec",
   "metadata": {},
   "outputs": [],
   "source": []
  }
 ],
 "metadata": {
  "kernelspec": {
   "display_name": "Python 3 (ipykernel)",
   "language": "python",
   "name": "python3"
  },
  "language_info": {
   "codemirror_mode": {
    "name": "ipython",
    "version": 3
   },
   "file_extension": ".py",
   "mimetype": "text/x-python",
   "name": "python",
   "nbconvert_exporter": "python",
   "pygments_lexer": "ipython3",
   "version": "3.11.5"
  }
 },
 "nbformat": 4,
 "nbformat_minor": 5
}
